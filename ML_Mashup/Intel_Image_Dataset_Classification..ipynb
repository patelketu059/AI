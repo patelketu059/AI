{
  "nbformat": 4,
  "nbformat_minor": 0,
  "metadata": {
    "colab": {
      "name": "Final -  MLE ImageDataset .ipynb",
      "provenance": [],
      "collapsed_sections": []
    },
    "kernelspec": {
      "display_name": "Python 3",
      "name": "python3"
    }
  },
  "cells": [
    {
      "cell_type": "code",
      "metadata": {
        "id": "Y2hNEqVMuBzO"
      },
      "source": [
        "import numpy as np\n",
        "import pandas as pd\n",
        "from scipy import stats as sps\n",
        "from matplotlib import pyplot as plt\n",
        "from skimage import io\n",
        "import skimage\n",
        "import time\n",
        "from PIL import Image\n",
        "from skimage.transform import resize\n",
        "\n",
        "from sklearn.preprocessing import StandardScaler\n",
        "from sklearn.decomposition import PCA\n",
        "from sklearn.neighbors import KNeighborsClassifier\n",
        "from sklearn.model_selection import KFold\n",
        "from sklearn.svm import SVC\n",
        "import sklearn.metrics"
      ],
      "execution_count": null,
      "outputs": []
    },
    {
      "cell_type": "code",
      "metadata": {
        "id": "laQBkw7FuKag",
        "colab": {
          "base_uri": "https://localhost:8080/"
        },
        "outputId": "58c00c5d-f328-4ce2-f635-2b37fb7099d1"
      },
      "source": [
        "from google.colab import drive\n",
        "drive.mount('/content/drive')\n"
      ],
      "execution_count": null,
      "outputs": [
        {
          "output_type": "stream",
          "text": [
            "Drive already mounted at /content/drive; to attempt to forcibly remount, call drive.mount(\"/content/drive\", force_remount=True).\n"
          ],
          "name": "stdout"
        }
      ]
    },
    {
      "cell_type": "code",
      "metadata": {
        "id": "SboVppPbuLy9",
        "colab": {
          "base_uri": "https://localhost:8080/"
        },
        "outputId": "0ccd9973-5ef2-474c-92b4-a2bc511ab556"
      },
      "source": [
        "!unzip '/content/drive/My Drive/Colab Notebooks/ImageDataset/archive.zip'"
      ],
      "execution_count": null,
      "outputs": [
        {
          "output_type": "stream",
          "text": [
            "Archive:  /content/drive/My Drive/Colab Notebooks/ImageDataset/archive.zip\n",
            "replace seg_pred/seg_pred/10004.jpg? [y]es, [n]o, [A]ll, [N]one, [r]ename: N\n"
          ],
          "name": "stdout"
        }
      ]
    },
    {
      "cell_type": "markdown",
      "metadata": {
        "id": "unJRVh8Juw6q"
      },
      "source": [
        "###b\n",
        "Pre-processing of each dataset\n"
      ]
    },
    {
      "cell_type": "code",
      "metadata": {
        "id": "Sr6fzNdauzVQ"
      },
      "source": [
        "buildingPath = '/content/seg_train/seg_train/buildings/*.jpg' #Building = 0\n",
        "forestPath = '/content/seg_train/seg_train/forest/*.jpg'      #forest =   1\n",
        "glacierPath = '/content/seg_train/seg_train/glacier/*.jpg'    #glacier =  2\n",
        "seaPath = '/content/seg_train/seg_train/sea/*.jpg'            #sea =      3\n",
        "streetPath = '/content/seg_train/seg_train/street/*.jpg'      #street =   4\n",
        "mountainPath = '/content/seg_train/seg_train/mountain/*.jpg'  #mountain = 5\n",
        "\n",
        "\n",
        "buildingPathTest = '/content/seg_test/seg_test/buildings/*.jpg' #Building = 0\n",
        "forestPathTest = '/content/seg_test/seg_test/forest/*.jpg'      #forest =   1\n",
        "glacierPathTest = '/content/seg_test/seg_test/glacier/*.jpg'    #glacier =  2\n",
        "seaPathTest = '/content/seg_test/seg_test/sea/*.jpg'            #sea =      3\n",
        "streetPathTest = '/content/seg_test/seg_test/street/*.jpg'      #street =   4\n",
        "mountainPathTest = '/content/seg_test/seg_test/mountain/*.jpg'  #mountain = 5"
      ],
      "execution_count": null,
      "outputs": []
    },
    {
      "cell_type": "code",
      "metadata": {
        "id": "e3VuOOwPbyEY",
        "colab": {
          "base_uri": "https://localhost:8080/"
        },
        "outputId": "4c5bac45-ec09-4566-be01-f736e665cde7"
      },
      "source": [
        "print(buildingPath)"
      ],
      "execution_count": null,
      "outputs": [
        {
          "output_type": "stream",
          "text": [
            "/content/seg_train/seg_train/buildings/*.jpg\n"
          ],
          "name": "stdout"
        }
      ]
    },
    {
      "cell_type": "code",
      "metadata": {
        "id": "OloRNBNnwppa"
      },
      "source": [
        "def toGrey(fname,value,TT,**kwargs):\n",
        "  im = skimage.io.imread(fname, as_gray=True)\n",
        "  im = skimage.transform.resize(im, (100,100))\n",
        "  im = np.array(im).flatten()\n",
        "  im = np.append(im, TT)\n",
        "  im = np.append(im, value)\n",
        "  return im\n",
        "##Train Data\n",
        "buildingTrain = io.ImageCollection(buildingPath, load_func=toGrey, value = 0, TT = 0) #TT = 0 --> Training Set, TT = 1 --> Testing Set\n",
        "forestTrain = io.ImageCollection(forestPath, load_func=toGrey, value = 1, TT = 0)\n",
        "glacierTrain = io.ImageCollection(glacierPath, load_func=toGrey, value = 2, TT = 0)\n",
        "seaTrain = io.ImageCollection(seaPath, load_func=toGrey, value = 3, TT = 0)\n",
        "streetTrain = io.ImageCollection(streetPath, load_func=toGrey, value = 4, TT = 0)\n",
        "mountainTrain = io.ImageCollection(mountainPath, load_func=toGrey, value = 5, TT = 0)\n",
        "\n",
        "buildingTrain = io.concatenate_images(buildingTrain)\n",
        "forestTrain = io.concatenate_images(forestTrain)\n",
        "glacierTrain = io.concatenate_images(glacierTrain)\n",
        "seaTrain = io.concatenate_images(seaTrain)\n",
        "streetTrain = io.concatenate_images(streetTrain)\n",
        "mountainTrain = io.concatenate_images(mountainTrain)\n",
        "\n",
        "buildingTrain = pd.DataFrame(buildingTrain)\n",
        "forestTrain = pd.DataFrame(forestTrain)\n",
        "glacierTrain = pd.DataFrame(glacierTrain)\n",
        "seaTrain = pd.DataFrame(seaTrain)\n",
        "streetTrain = pd.DataFrame(streetTrain)\n",
        "mountainTrain = pd.DataFrame(mountainTrain)\n",
        "\n",
        "\n"
      ],
      "execution_count": null,
      "outputs": []
    },
    {
      "cell_type": "code",
      "metadata": {
        "id": "XU4secMeouIs"
      },
      "source": [
        "buildingTest = io.ImageCollection(buildingPathTest, load_func=toGrey, value = 0, TT = 1)\r\n",
        "forestTest = io.ImageCollection(forestPathTest, load_func=toGrey, value = 1, TT = 1)\r\n",
        "glacierTest = io.ImageCollection(glacierPathTest, load_func=toGrey, value = 2, TT = 1)\r\n",
        "seaTest = io.ImageCollection(seaPathTest, load_func=toGrey, value = 3, TT = 1)\r\n",
        "streetTest = io.ImageCollection(streetPathTest, load_func=toGrey, value = 4, TT = 1)\r\n",
        "mountainTest = io.ImageCollection(mountainPathTest, load_func=toGrey, value = 5, TT = 1)\r\n",
        "\r\n",
        "buildingTest = io.concatenate_images(buildingTest)\r\n",
        "forestTest = io.concatenate_images(forestTest)\r\n",
        "glacierTest = io.concatenate_images(glacierTest)\r\n",
        "seaTest = io.concatenate_images(seaTest)\r\n",
        "streetTest = io.concatenate_images(streetTest)\r\n",
        "mountainTest = io.concatenate_images(mountainTest)\r\n",
        "\r\n",
        "buildingTest = pd.DataFrame(buildingTest)\r\n",
        "forestTest = pd.DataFrame(forestTest)\r\n",
        "glacierTest = pd.DataFrame(glacierTest)\r\n",
        "seaTest = pd.DataFrame(seaTest)\r\n",
        "streetTest = pd.DataFrame(streetTest)\r\n",
        "mountainTest = pd.DataFrame(mountainTest)\r\n",
        "\r\n"
      ],
      "execution_count": null,
      "outputs": []
    },
    {
      "cell_type": "code",
      "metadata": {
        "id": "ugrBO5gMZoFO",
        "colab": {
          "base_uri": "https://localhost:8080/",
          "height": 257
        },
        "outputId": "20217ca0-73cf-4a89-bd95-246530830121"
      },
      "source": [
        "frames = [buildingTrain[0:2190], forestTrain[0:2190], glacierTrain[0:2190], seaTrain[0:2190], streetTrain[0:2190], mountainTrain[0:2190], \\\n",
        "          buildingTest, forestTest, glacierTest, seaTest, streetTest, mountainTest]\n",
        "data = pd.concat(frames, ignore_index=True)\n",
        "\n",
        "\n",
        "Y = data.loc[:,data.shape[1]-1]\n",
        "TT_C = data.loc[:,data.shape[1]-2]\n",
        "print(\"Total\", data.shape)\n",
        "print(Y.value_counts())\n",
        "print(TT_C.value_counts())\n",
        "\n",
        "'''\n",
        "testX = pd.concat(framesTest, ignore_index=True)\n",
        "testX = testX.sample(frac=1).reset_index(drop=True)\n",
        "testX = testX.sample(frac=1).reset_index(drop=True)\n",
        "testY = testX.loc[:,testX.shape[1]-1]\n",
        "print(\"TEST\", testX.shape)\n",
        "print(testY.value_counts())\n",
        "'''\n"
      ],
      "execution_count": null,
      "outputs": [
        {
          "output_type": "stream",
          "text": [
            "Total (16140, 10002)\n",
            "2.0    2743\n",
            "5.0    2715\n",
            "3.0    2700\n",
            "4.0    2691\n",
            "1.0    2664\n",
            "0.0    2627\n",
            "Name: 10001, dtype: int64\n",
            "0.0    13140\n",
            "1.0     3000\n",
            "Name: 10000, dtype: int64\n"
          ],
          "name": "stdout"
        },
        {
          "output_type": "execute_result",
          "data": {
            "application/vnd.google.colaboratory.intrinsic+json": {
              "type": "string"
            },
            "text/plain": [
              "'\\ntestX = pd.concat(framesTest, ignore_index=True)\\ntestX = testX.sample(frac=1).reset_index(drop=True)\\ntestX = testX.sample(frac=1).reset_index(drop=True)\\ntestY = testX.loc[:,testX.shape[1]-1]\\nprint(\"TEST\", testX.shape)\\nprint(testY.value_counts())\\n'"
            ]
          },
          "metadata": {
            "tags": []
          },
          "execution_count": 9
        }
      ]
    },
    {
      "cell_type": "markdown",
      "metadata": {
        "id": "ffkgJDhno0_k"
      },
      "source": [
        "I am importing all the images using Skimage because it offers ImageCollection making it very easy to work with. When I import the images, I pass in  function and resize all images to 100x100 so I have equal number of attributes for all images and change it to greyscale to reduce the number the parameters. Sampling all data at random to shuffle. I am centering and normalizing the data using Standard Scaler but its in the cell c (Compilation took too long so I didn't want to move it)"
      ]
    },
    {
      "cell_type": "markdown",
      "metadata": {
        "id": "16DZx_0vurne"
      },
      "source": [
        "###a  \n",
        "Brief exploration of each dataset"
      ]
    },
    {
      "cell_type": "code",
      "metadata": {
        "id": "ajSp9huNSIb7",
        "colab": {
          "base_uri": "https://localhost:8080/",
          "height": 503
        },
        "outputId": "5cc4ffca-b03a-4fed-b9be-b05cc66d90b8"
      },
      "source": [
        "print(\"Total Number of Images: \", data.shape[0])\n",
        "print(\"Total Number of features before feature Extraction (per Image): \", data.shape[1]) #After Rescaling all images \n",
        "fig = plt.figure()\n",
        "fig.xlabel = \"Categories\"\n",
        "fig.ylabel = \"Number of Samples\"\n",
        "ax = fig.add_axes([0,0,1,1])\n",
        "labels = ['Glacier', 'Mountain', 'Sea', 'Street', 'Forest', 'Building']\n",
        "print(Y.value_counts(sort=True))\n",
        "ax.bar(labels, Y.value_counts(sort = True))\n",
        "plt.show()\n",
        "\n"
      ],
      "execution_count": null,
      "outputs": [
        {
          "output_type": "stream",
          "text": [
            "Total Number of Images:  16140\n",
            "Total Number of features before feature Extraction (per Image):  10002\n",
            "2.0    2743\n",
            "5.0    2715\n",
            "3.0    2700\n",
            "4.0    2691\n",
            "1.0    2664\n",
            "0.0    2627\n",
            "Name: 10001, dtype: int64\n"
          ],
          "name": "stdout"
        },
        {
          "output_type": "display_data",
          "data": {
            "image/png": "[encoded data removed]",
            "text/plain": [
              "<Figure size 432x288 with 1 Axes>"
            ]
          },
          "metadata": {
            "tags": [],
            "needs_background": "light"
          }
        }
      ]
    },
    {
      "cell_type": "markdown",
      "metadata": {
        "id": "alMbaCN4ohOG"
      },
      "source": [
        "This Data contains around 25k images of size 150x150 distributed under 6 categories.\r\n",
        "{'buildings' -> 0,\r\n",
        "'forest' -> 1,\r\n",
        "'glacier' -> 2,\r\n",
        "'mountain' -> 3,\r\n",
        "'sea' -> 4,\r\n",
        "'street' -> 5 }\r\n",
        "\r\n",
        "I am using an equal number of images for all sets to keep uniform prior distribution. Rescaling the images to 100x100 and flattening it to keep equal parameters. So there are no missing values."
      ]
    },
    {
      "cell_type": "markdown",
      "metadata": {
        "id": "6insiDhsgaxs"
      },
      "source": [
        "###c\n",
        "Feature extraction / feature learning from each dataset"
      ]
    },
    {
      "cell_type": "code",
      "metadata": {
        "id": "RUQ4-rBpgday",
        "colab": {
          "base_uri": "https://localhost:8080/"
        },
        "outputId": "d8fc21a8-c894-4ee5-de0c-c48ed3a164ea"
      },
      "source": [
        "total = data.drop(columns=[data.shape[1]-1, data.shape[1] - 2])\n",
        "print(total)\n",
        "\n",
        "scaler = StandardScaler()\n",
        "X = scaler.fit_transform(total)\n",
        "total = pd.DataFrame(X)\n",
        "\n",
        "pca = PCA(0.95, svd_solver='full').fit(total)\n",
        "total_data = pca.transform(total)\n",
        "print(total_data.shape)\n",
        "\n",
        "SavePath = '/content/drive/My Drive/Colab Notebooks/ImageDataset/'\n",
        "np.save(SavePath+'pcaTrain', pca)"
      ],
      "execution_count": null,
      "outputs": [
        {
          "output_type": "stream",
          "text": [
            "           0         1         2     ...      9997      9998      9999\n",
            "0      0.967326  0.970266  0.972719  ...  0.143280  0.119280  0.202307\n",
            "1      0.329706  0.840325  0.819388  ...  0.570323  0.645601  0.575988\n",
            "2      0.626257  0.629932  0.640462  ...  0.038953  0.051730  0.045848\n",
            "3      0.817343  0.883831  0.775641  ...  0.579228  0.574575  0.570169\n",
            "4      0.654817  0.649991  0.622085  ...  0.071533  0.067615  0.060267\n",
            "...         ...       ...       ...  ...       ...       ...       ...\n",
            "16135  0.246147  0.246147  0.246006  ...  0.656579  0.723684  0.749103\n",
            "16136  0.434887  0.432683  0.428764  ...  0.230061  0.313312  0.232513\n",
            "16137  0.900375  0.900375  0.899640  ...  0.100261  0.104683  0.110563\n",
            "16138  0.680087  0.680087  0.680087  ...  0.593846  0.606889  0.716585\n",
            "16139  0.699978  0.695038  0.703890  ...  0.108608  0.120443  0.129997\n",
            "\n",
            "[16140 rows x 10000 columns]\n",
            "(16140, 1950)\n"
          ],
          "name": "stdout"
        }
      ]
    },
    {
      "cell_type": "code",
      "metadata": {
        "colab": {
          "base_uri": "https://localhost:8080/"
        },
        "id": "OLPT5viyG5CW",
        "outputId": "b834c39a-bdeb-4d7a-eeda-1b892ee035df"
      },
      "source": [
        "np.save(SavePath+'pca_trainX', total_data)\r\n",
        "total_data = pd.DataFrame(total_data)\r\n",
        "print(total_data)"
      ],
      "execution_count": null,
      "outputs": [
        {
          "output_type": "stream",
          "text": [
            "            0           1          2     ...      1947      1948      1949\n",
            "0      84.094933  -71.405142   7.331012  ... -0.286883  0.510156  0.177273\n",
            "1      14.380790   26.839168 -22.041358  ... -0.597269  0.737829 -0.659763\n",
            "2      30.250225  -14.342270   3.286524  ... -0.209217  0.273926 -0.145134\n",
            "3      -4.738726   23.887172  -1.019457  ... -0.248144  1.540336  0.088652\n",
            "4     -32.411323  -53.433880  25.537894  ...  0.116138  0.080925  0.059600\n",
            "...          ...         ...        ...  ...       ...       ...       ...\n",
            "16135   0.596846  115.678631  -3.351978  ... -0.765677 -0.481292 -0.301381\n",
            "16136 -50.362508    0.092300  -5.934529  ... -0.320394 -0.171646 -0.007751\n",
            "16137  65.178590  -47.350085  43.598028  ... -0.177425  0.055400 -0.036300\n",
            "16138  39.538768  -25.863124   5.520056  ... -0.232658 -0.044792  0.450483\n",
            "16139  88.220929  -32.448569  75.095480  ...  0.345194  0.114486  0.458590\n",
            "\n",
            "[16140 rows x 1950 columns]\n"
          ],
          "name": "stdout"
        }
      ]
    },
    {
      "cell_type": "code",
      "metadata": {
        "id": "w8y0pz3N_u4I",
        "colab": {
          "base_uri": "https://localhost:8080/"
        },
        "outputId": "37e75d9b-1d5f-45b0-f11a-b5a3d6d3ac3a"
      },
      "source": [
        "total = pd.concat([total_data, TT_C], axis=1) \r\n",
        "trainX = total.loc[total[10000] == 0] #index 10000 --> 0 - Training, 1 - Test\r\n",
        "trainY = Y.loc[total[10000] == 0]\r\n",
        "trainX = pd.DataFrame(trainX)\r\n",
        "trainY = pd.DataFrame(trainY)\r\n",
        "\r\n",
        "testX = total.loc[total[10000] == 1]\r\n",
        "testY = Y.loc[total[10000] == 1]\r\n",
        "testX = pd.DataFrame(testX)\r\n",
        "testY = pd.DataFrame(testY)\r\n",
        "\r\n",
        "trainX = trainX.drop(columns=[10000])\r\n",
        "testX = testX.drop(columns=[10000])\r\n",
        "\r\n",
        "trainX = pd.concat([trainX, trainY], axis = 1)\r\n",
        "testX = pd.concat([testX, testY], axis = 1)\r\n",
        "\r\n",
        "print(trainX)\r\n",
        "print(testX)"
      ],
      "execution_count": null,
      "outputs": [
        {
          "output_type": "stream",
          "text": [
            "           0          1          2      ...     1948      1949   10001\n",
            "0      84.094933 -71.405142   7.331012  ...  0.510156  0.177273    0.0\n",
            "1      14.380790  26.839168 -22.041358  ...  0.737829 -0.659763    0.0\n",
            "2      30.250225 -14.342270   3.286524  ...  0.273926 -0.145134    0.0\n",
            "3      -4.738726  23.887172  -1.019457  ...  1.540336  0.088652    0.0\n",
            "4     -32.411323 -53.433880  25.537894  ...  0.080925  0.059600    0.0\n",
            "...          ...        ...        ...  ...       ...       ...    ...\n",
            "13135  78.616287 -75.524537  16.964950  ...  0.623296  0.305074    5.0\n",
            "13136  39.680810 -26.237029  54.586163  ...  0.191272  0.215040    5.0\n",
            "13137 -32.583341 -40.290583  -3.004741  ... -0.075517 -0.277119    5.0\n",
            "13138  26.338133 -36.087838  25.059227  ...  0.551025 -0.158878    5.0\n",
            "13139  -2.223373 -39.793041  45.053218  ... -0.073029 -0.594586    5.0\n",
            "\n",
            "[13140 rows x 1951 columns]\n",
            "           0           1          2      ...     1948      1949   10001\n",
            "13140  48.581204    1.100303   9.868539  ...  0.283146  0.366640    0.0\n",
            "13141  24.724299   21.816132 -18.067673  ...  0.094849  0.277252    0.0\n",
            "13142  -4.817912  -55.963723 -24.577092  ...  0.582986 -0.063616    0.0\n",
            "13143   5.665939  -13.106575   7.675289  ... -0.437806 -0.412037    0.0\n",
            "13144 -36.528626   28.397019  31.062172  ...  0.811008 -0.607542    0.0\n",
            "...          ...         ...        ...  ...       ...       ...    ...\n",
            "16135   0.596846  115.678631  -3.351978  ... -0.481292 -0.301381    5.0\n",
            "16136 -50.362508    0.092300  -5.934529  ... -0.171646 -0.007751    5.0\n",
            "16137  65.178590  -47.350085  43.598028  ...  0.055400 -0.036300    5.0\n",
            "16138  39.538768  -25.863124   5.520056  ... -0.044792  0.450483    5.0\n",
            "16139  88.220929  -32.448569  75.095480  ...  0.114486  0.458590    5.0\n",
            "\n",
            "[3000 rows x 1951 columns]\n"
          ],
          "name": "stdout"
        }
      ]
    },
    {
      "cell_type": "code",
      "metadata": {
        "id": "Uz3X6eNo9TwK"
      },
      "source": [
        "trainX = trainX.sample(frac=1).reset_index(drop=True)\r\n",
        "trainX = trainX.sample(frac=1).reset_index(drop=True)\r\n",
        "trainY = trainX.loc[:,10001] #\r\n",
        "trainX = trainX.drop(columns=[10001])\r\n",
        "\r\n",
        "testX = testX.sample(frac=1).reset_index(drop=True)\r\n",
        "testX = testX.sample(frac=1).reset_index(drop=True)\r\n",
        "testY = testX.loc[:,10001]\r\n",
        "testX = testX.drop(columns = [10001])\r\n"
      ],
      "execution_count": null,
      "outputs": []
    },
    {
      "cell_type": "markdown",
      "metadata": {
        "id": "MVwn7GrbtYvQ"
      },
      "source": [
        "There are no invalid or missing entries since the pixels are being flattened so its getting the original values from the image and all these values are greater than one becuase image is encoded in RGB (0-255) and then converted to grayscale so we need to standardize the data to prevent extreme weights to one column than others and same for all images. Also, PCA requires centered data so standardizing was necessary for feature extraction. Standardizing had to be done over the entire dataset so had to combine all data before training during the preproccesing state and use PCA for feature extraction over all datasamples to avoid losing different parameters."
      ]
    },
    {
      "cell_type": "markdown",
      "metadata": {
        "id": "NUi4AbhWqv9P"
      },
      "source": [
        "Using PCA to reduce the number of features to a number that covers 95% of the data. I applied PCA on training data and extracted same number of features on the test data. PCA was done to reduce the dimensionality and throw away components that are low variance (have no/minimal effect on dataset). Also, since we are working with large parameter size, PCA would help us from overfitting the data. \r\n",
        "\r\n",
        "\r\n"
      ]
    },
    {
      "cell_type": "markdown",
      "metadata": {
        "id": "YTpkJmaKBFtT"
      },
      "source": [
        "###d"
      ]
    },
    {
      "cell_type": "code",
      "metadata": {
        "id": "-nzLXcR0Joi6"
      },
      "source": [
        "pca_trainX = pd.DataFrame(trainX)\r\n",
        "pca_testX = pd.DataFrame(testX)"
      ],
      "execution_count": null,
      "outputs": []
    },
    {
      "cell_type": "markdown",
      "metadata": {
        "id": "wmaBEm5aJmrm"
      },
      "source": [
        "######KNN\r\n"
      ]
    },
    {
      "cell_type": "code",
      "metadata": {
        "id": "iN5hhOj7BFQQ",
        "colab": {
          "base_uri": "https://localhost:8080/"
        },
        "outputId": "62667696-6862-4625-e043-24c2199e8c12"
      },
      "source": [
        "KFolds = KFold(6)\n",
        "KFolds.get_n_splits(pca_trainX)\n",
        "kValues = [3,5,7,11,13,17]\n",
        "\n",
        "KNN_Errors = 0\n",
        "KNN_TrainingTimes = 0\n",
        "KFolds.split(pca_trainX)\n",
        "count = 0\n",
        "error = []\n",
        "for train_data, test_data in KFolds.split(pca_trainX):\n",
        "  currentTime = time.time()\n",
        "  X_train, X_test = pca_trainX.iloc[train_data], pca_trainX.iloc[test_data]\n",
        "  y_train, y_test = trainY.iloc[train_data], trainY.iloc[test_data]\n",
        "\n",
        "  KNNClf = KNeighborsClassifier(n_neighbors=kValues[count],algorithm='brute', weights='distance', p=2, n_jobs = -1)\n",
        "  KNNClf.fit(X_train, y_train)\n",
        "  resultKNN = KNNClf.predict(X_test)\n",
        "  KNN_TrainingTimes += sklearn.metrics.mean_squared_error(y_test, resultKNN)\n",
        "  print(\"K: \", kValues[count], \"Accuracy: \", sklearn.metrics.accuracy_score(y_test, resultKNN), \\\n",
        "        \"Mean Squared Error: \",   sklearn.metrics.mean_squared_error(y_test, resultKNN))\n",
        "  KNN_Errors += sklearn.metrics.mean_squared_error(y_test, resultKNN)\n",
        "  count += 1\n",
        "  KNN_TrainingTimes += time.time() - currentTime\n",
        "  error.append(sklearn.metrics.mean_squared_error(y_test, resultKNN))\n",
        "\n",
        "KNN_TrainingTimes /= 6\n",
        "KNN_Errors /= 6"
      ],
      "execution_count": null,
      "outputs": [
        {
          "output_type": "stream",
          "text": [
            "K:  3 Accuracy:  0.31917808219178084 Mean Squared Error:  4.570776255707763\n",
            "K:  5 Accuracy:  0.32374429223744294 Mean Squared Error:  4.682191780821918\n",
            "K:  7 Accuracy:  0.30776255707762556 Mean Squared Error:  4.65296803652968\n",
            "K:  11 Accuracy:  0.32602739726027397 Mean Squared Error:  4.618264840182649\n",
            "K:  13 Accuracy:  0.31643835616438354 Mean Squared Error:  4.763926940639269\n",
            "K:  17 Accuracy:  0.3401826484018265 Mean Squared Error:  4.529680365296803\n"
          ],
          "name": "stdout"
        }
      ]
    },
    {
      "cell_type": "code",
      "metadata": {
        "id": "IbchJWhb6YRO",
        "colab": {
          "base_uri": "https://localhost:8080/"
        },
        "outputId": "4028a23b-a9fb-43fb-9632-c161a82b4928"
      },
      "source": [
        "KNNClf = KNeighborsClassifier(n_neighbors=17,algorithm='brute', weights='distance', p=2, n_jobs = -1)\n",
        "KNNClf.fit(pca_trainX, trainY)\n",
        "resultKNN = KNNClf.predict(pca_testX)\n",
        "print(\"Production KNN Algorithm:\")\n",
        "print(\"K: \",17, \" Accuracy: \", sklearn.metrics.accuracy_score(testY, resultKNN), \\\n",
        "        \"Mean Squared Error: \",   sklearn.metrics.mean_squared_error(testY, resultKNN))\n",
        "\n",
        "KNN_TestError = sklearn.metrics.mean_squared_error(testY, resultKNN)"
      ],
      "execution_count": null,
      "outputs": [
        {
          "output_type": "stream",
          "text": [
            "Production KNN Algorithm:\n",
            "K:  17  Accuracy:  0.3313333333333333 Mean Squared Error:  4.399\n"
          ],
          "name": "stdout"
        }
      ]
    },
    {
      "cell_type": "markdown",
      "metadata": {
        "id": "e4GYuPmeJvy1"
      },
      "source": [
        "######Logistic Regression"
      ]
    },
    {
      "cell_type": "code",
      "metadata": {
        "id": "lDOyJGHApUUM",
        "colab": {
          "base_uri": "https://localhost:8080/"
        },
        "outputId": "c109eeea-a544-4e0a-9590-8b4075dd24c1"
      },
      "source": [
        "#############Logistic Regression\n",
        "from sklearn.linear_model import LogisticRegression\n",
        "LR_TrainingTimes = 0\n",
        "LR_TrainingError = 0\n",
        "\n",
        "KFolds = KFold(6)\n",
        "KFolds.get_n_splits(pca_trainX)\n",
        "CValues = [1, 0.1, 0.01, 0.001, 0.0001, 0.00001]\n",
        "count = 0\n",
        "for train_data, test_data in KFolds.split(pca_trainX):\n",
        "  currentTime = time.time()\n",
        "  X_train, X_test = pca_trainX.iloc[train_data], pca_trainX.iloc[test_data]\n",
        "  y_train, y_test = trainY.iloc[train_data], trainY.iloc[test_data]\n",
        "  LogisticCLF = LogisticRegression(penalty = 'l2', tol = 0.1, C=CValues[count], solver='liblinear',max_iter = 2000, multi_class = 'ovr').fit(X_train, y_train)\n",
        "  resultLR = LogisticCLF.predict(X_test)\n",
        "  print(\"C:\", CValues[count], \"Accuracy: \", sklearn.metrics.accuracy_score(y_test, resultLR), \\\n",
        "        \"Mean Squared Error: \",   sklearn.metrics.mean_squared_error(y_test, resultLR))\n",
        "  LR_TrainingError +=  sklearn.metrics.mean_squared_error(y_test, resultLR)\n",
        "  LR_TrainingTimes += time.time() - currentTime\n",
        "  count += 1\n",
        "\n",
        "LR_TrainingTimes /= 6\n",
        "LR_TrainingError /= 6"
      ],
      "execution_count": null,
      "outputs": [
        {
          "output_type": "stream",
          "text": [
            "C: 1 Accuracy:  0.3324200913242009 Mean Squared Error:  4.8342465753424655\n",
            "C: 0.1 Accuracy:  0.32511415525114157 Mean Squared Error:  4.8123287671232875\n",
            "C: 0.01 Accuracy:  0.34794520547945207 Mean Squared Error:  4.778082191780822\n",
            "C: 0.001 Accuracy:  0.3917808219178082 Mean Squared Error:  4.315981735159817\n",
            "C: 0.0001 Accuracy:  0.42191780821917807 Mean Squared Error:  4.039269406392694\n",
            "C: 1e-05 Accuracy:  0.44018264840182647 Mean Squared Error:  4.233333333333333\n"
          ],
          "name": "stdout"
        }
      ]
    },
    {
      "cell_type": "code",
      "metadata": {
        "id": "x62ovZcgqYyB",
        "colab": {
          "base_uri": "https://localhost:8080/"
        },
        "outputId": "00754a64-6980-45e5-bf7a-f95c37c58448"
      },
      "source": [
        "tolValues = [1, 0.1, 0.01, 0.001, 0.00001, 0.000001]\n",
        "count = 0\n",
        "temp = 0\n",
        "temp2 = 0\n",
        "for train_data, test_data in KFolds.split(pca_trainX):\n",
        "  currentTime = time.time()\n",
        "  X_train, X_test = pca_trainX.iloc[train_data], pca_trainX.iloc[test_data]\n",
        "  y_train, y_test = trainY.iloc[train_data], trainY.iloc[test_data]\n",
        "  LogisticCLF = LogisticRegression(penalty = 'l2', tol = tolValues[count], C=0.0001, solver='liblinear',max_iter = 2000, multi_class = 'ovr').fit(X_train, y_train)\n",
        "  resultLR = LogisticCLF.predict(X_test)\n",
        "  print(\"tol:\", tolValues[count], \"Accuracy: \", sklearn.metrics.accuracy_score(y_test, resultLR), \\\n",
        "        \"Mean Squared Error: \",   sklearn.metrics.mean_squared_error(y_test, resultLR))\n",
        "  temp += time.time() - currentTime\n",
        "  temp2 += sklearn.metrics.mean_squared_error(y_test, resultLR)\n",
        "  count += 1\n",
        "\n",
        "LR_TrainingTimes += temp/6\n",
        "LR_TrainingTimes /= 2 \n",
        "LR_TrainingError += temp2/6\n",
        "LR_TrainingError /= 2"
      ],
      "execution_count": null,
      "outputs": [
        {
          "output_type": "stream",
          "text": [
            "tol: 1 Accuracy:  0.410958904109589 Mean Squared Error:  4.14703196347032\n",
            "tol: 0.1 Accuracy:  0.42876712328767125 Mean Squared Error:  4.112328767123287\n",
            "tol: 0.01 Accuracy:  0.4178082191780822 Mean Squared Error:  4.218721461187215\n",
            "tol: 0.001 Accuracy:  0.43105022831050227 Mean Squared Error:  4.105479452054794\n",
            "tol: 1e-05 Accuracy:  0.42420091324200915 Mean Squared Error:  3.99634703196347\n",
            "tol: 1e-06 Accuracy:  0.4324200913242009 Mean Squared Error:  4.205479452054795\n"
          ],
          "name": "stdout"
        }
      ]
    },
    {
      "cell_type": "code",
      "metadata": {
        "id": "8BVr2zlIULd1",
        "colab": {
          "base_uri": "https://localhost:8080/"
        },
        "outputId": "b54c6e22-23e0-4e19-9920-132001ab9af6"
      },
      "source": [
        "LogisticCLF = LogisticRegression(penalty = 'l2', tol =  0.00001, C=0.0001, solver='liblinear',max_iter = 2000, multi_class = 'ovr').fit(pca_trainX, trainY)\n",
        "resultLR = LogisticCLF.predict(pca_testX)\n",
        "print(\"Production Logistic Regression Algorithm:\")\n",
        "print(\"Accuracy: \", sklearn.metrics.accuracy_score(testY, resultLR), \\\n",
        "        \"Mean Squared Error: \",   sklearn.metrics.mean_squared_error(testY, resultLR))\n",
        "\n",
        "LR_TestError = sklearn.metrics.mean_squared_error(testY, resultLR)"
      ],
      "execution_count": null,
      "outputs": [
        {
          "output_type": "stream",
          "text": [
            "Production Logistic Regression Algorithm:\n",
            "Accuracy:  0.434 Mean Squared Error:  4.091666666666667\n"
          ],
          "name": "stdout"
        }
      ]
    },
    {
      "cell_type": "markdown",
      "metadata": {
        "id": "QVXfp_n7J3Sz"
      },
      "source": [
        "###### Radial Kernel SVM"
      ]
    },
    {
      "cell_type": "code",
      "metadata": {
        "id": "wTzNxwf8lje_",
        "colab": {
          "base_uri": "https://localhost:8080/"
        },
        "outputId": "515a2b69-dd4f-4aa0-a144-1db37f1d3c7a"
      },
      "source": [
        "CValues = [10000, 100, 10, 1, 0.1, 0.001]\r\n",
        "KFolds = KFold(6, shuffle=True)\r\n",
        "SVM_TrainingTime = 0\r\n",
        "SVM_TrainingError = 0\r\n",
        "count = 0\r\n",
        "for train_data, test_data in KFolds.split(pca_trainX):\r\n",
        "  currentTime = time.time()\r\n",
        "  X_train, X_test = pca_trainX.iloc[train_data], pca_trainX.iloc[test_data]\r\n",
        "  y_train, y_test = trainY.iloc[train_data], trainY.iloc[test_data]\r\n",
        "  SVMClf = SVC(C=CValues[count], kernel = 'rbf' ,tol= 3 ,max_iter = 3000, decision_function_shape='ovr')\r\n",
        "  SVMClf.fit(X_train, y_train)\r\n",
        "\r\n",
        "  resultSVM = SVMClf.predict(X_test)\r\n",
        "  print(\"C:\", CValues[count], \"Accuracy: \", sklearn.metrics.accuracy_score(y_test, resultSVM), \\\r\n",
        "        \"Mean Squared Error: \",   sklearn.metrics.mean_squared_error(y_test, resultSVM))\r\n",
        "  SVM_TrainingTime += time.time() - currentTime\r\n",
        "  SVM_TrainingError += sklearn.metrics.mean_squared_error(y_test, resultSVM)\r\n",
        "  count += 1\r\n"
      ],
      "execution_count": null,
      "outputs": [
        {
          "output_type": "stream",
          "text": [
            "C: 10000 Accuracy:  0.16940639269406393 Mean Squared Error:  9.434703196347032\n",
            "C: 100 Accuracy:  0.1726027397260274 Mean Squared Error:  9.057077625570777\n",
            "C: 10 Accuracy:  0.16529680365296803 Mean Squared Error:  9.140182648401826\n",
            "C: 1 Accuracy:  0.16712328767123288 Mean Squared Error:  9.018264840182649\n",
            "C: 0.1 Accuracy:  0.15844748858447488 Mean Squared Error:  9.189497716894977\n",
            "C: 0.001 Accuracy:  0.16712328767123288 Mean Squared Error:  9.16027397260274\n"
          ],
          "name": "stdout"
        }
      ]
    },
    {
      "cell_type": "code",
      "metadata": {
        "id": "ZYWjlraGKP38",
        "colab": {
          "base_uri": "https://localhost:8080/"
        },
        "outputId": "b3712645-ce65-4e06-ae99-671f600d16d7"
      },
      "source": [
        "tolValues = [100 , 10, 5, 1, 0.1, 0.099]\r\n",
        "temp = 0\r\n",
        "temp2 = 0\r\n",
        "\r\n",
        "count = 0\r\n",
        "for train_data, test_data in KFolds.split(pca_trainX):\r\n",
        "  currentTime = time.time()\r\n",
        "  X_train, X_test = pca_trainX.iloc[train_data], pca_trainX.iloc[test_data]\r\n",
        "  y_train, y_test = trainY.iloc[train_data], trainY.iloc[test_data]\r\n",
        "  SVMClf = SVC(C=100, kernel = 'rbf' ,tol= tolValues[count],max_iter = 10000, decision_function_shape='ovr')\r\n",
        "  SVMClf.fit(X_train, y_train)\r\n",
        "\r\n",
        "  resultSVM = SVMClf.predict(X_test)\r\n",
        "  print(\"C:\",1000,'Tolerance: ', tolValues[count],  \"Accuracy: \", sklearn.metrics.accuracy_score(y_test, resultSVM), \\\r\n",
        "        \"Mean Squared Error: \",   sklearn.metrics.mean_squared_error(y_test, resultSVM))\r\n",
        "  temp += time.time() - currentTime\r\n",
        "  temp2 += sklearn.metrics.mean_squared_error(y_test, resultSVM)\r\n",
        "  count += 1\r\n",
        "\r\n",
        "SVM_TrainingTime += temp\r\n",
        "SVM_TrainingTime /= 12\r\n",
        "SVM_TrainingError += temp2\r\n",
        "SVM_TrainingError /= 12"
      ],
      "execution_count": null,
      "outputs": [
        {
          "output_type": "stream",
          "text": [
            "C: 1000 Tolerance:  100 Accuracy:  0.17488584474885846 Mean Squared Error:  9.302739726027397\n",
            "C: 1000 Tolerance:  10 Accuracy:  0.15844748858447488 Mean Squared Error:  9.126940639269407\n",
            "C: 1000 Tolerance:  5 Accuracy:  0.1589041095890411 Mean Squared Error:  9.246118721461187\n",
            "C: 1000 Tolerance:  1 Accuracy:  0.536986301369863 Mean Squared Error:  3.2881278538812784\n",
            "C: 1000 Tolerance:  0.1 Accuracy:  0.5356164383561643 Mean Squared Error:  3.3621004566210044\n",
            "C: 1000 Tolerance:  0.099 Accuracy:  0.5401826484018265 Mean Squared Error:  3.34337899543379\n"
          ],
          "name": "stdout"
        }
      ]
    },
    {
      "cell_type": "code",
      "metadata": {
        "id": "vOIxRjjkXB2e",
        "colab": {
          "base_uri": "https://localhost:8080/"
        },
        "outputId": "738af58d-e2de-4350-c167-80147fc1168f"
      },
      "source": [
        "SVMClf = SVC(C=100, kernel = 'rbf' ,tol= 1,max_iter = 10000, decision_function_shape='ovr')\r\n",
        "SVMClf.fit(X_train, y_train)\r\n",
        "resultSVM = SVMClf.predict(pca_testX)\r\n",
        "print(\"C:\", 100, \"Accuracy: \", sklearn.metrics.accuracy_score(testY, resultSVM), \\\r\n",
        "        \"Mean Squared Error: \",   sklearn.metrics.mean_squared_error(testY, resultSVM))\r\n",
        "SVM_TestError = sklearn.metrics.mean_squared_error(testY, resultSVM)"
      ],
      "execution_count": null,
      "outputs": [
        {
          "output_type": "stream",
          "text": [
            "C: 100 Accuracy:  0.5343333333333333 Mean Squared Error:  3.3176666666666668\n"
          ],
          "name": "stdout"
        }
      ]
    },
    {
      "cell_type": "markdown",
      "metadata": {
        "id": "cvcJxU7JtSUW"
      },
      "source": [
        "Used Kfold Validation to cross validate the regularization parameters and tolerance rate to minimize the errors in SVM and Logistic Regression. And used KFold for the k values in KNN. Used KNN to test performance with non-parametric classifier.\r\n",
        "\r\n",
        "I also used brute algorithm for KNN with the weights of the neightbors inversely weighted by distance.\r\n",
        "\r\n",
        "I used l2 penalty (Euclidian) with linear model for Logisitc Regression and to save time on training used One vs all classification. Logistic Regression was used to see the performance of a linear classifier that does not require  gaussian distribution.\r\n",
        "\r\n",
        "Used radial kernel SVM since the data is spread out on so many dimensions and finding a linear relation would be very inaccurate. Also used One vs all to save time on training and testing. Used Radial Kernel SVM to see performance under a non-linear kernel. And given thats its a image dataset with large number of parameters, I expected this algorithm to outperform the others."
      ]
    },
    {
      "cell_type": "markdown",
      "metadata": {
        "id": "fGr_h_vlzw3w"
      },
      "source": [
        "###e"
      ]
    },
    {
      "cell_type": "code",
      "metadata": {
        "id": "aNZpeYXEx4UJ",
        "colab": {
          "base_uri": "https://localhost:8080/",
          "height": 295
        },
        "outputId": "b73ba493-8d54-43fd-b225-51f78e17e168"
      },
      "source": [
        "confusion_matrix = sklearn.metrics.plot_confusion_matrix(KNNClf, pca_testX, testY)\r\n",
        "plt.title(\"KNN Confusion Matrix\")\r\n",
        "plt.show()"
      ],
      "execution_count": null,
      "outputs": [
        {
          "output_type": "display_data",
          "data": {
            "image/png": "[encoded data removed]",
            "text/plain": [
              "<Figure size 432x288 with 2 Axes>"
            ]
          },
          "metadata": {
            "tags": [],
            "needs_background": "light"
          }
        }
      ]
    },
    {
      "cell_type": "code",
      "metadata": {
        "id": "XsV83lgo0Xv_",
        "colab": {
          "base_uri": "https://localhost:8080/",
          "height": 295
        },
        "outputId": "c7a7b84a-126a-478c-b96c-d74f46a2000c"
      },
      "source": [
        "confusion_matrix = sklearn.metrics.plot_confusion_matrix(LogisticCLF, pca_testX, testY)\r\n",
        "plt.title(\"Logistic Regression Confusion Matrix\")\r\n",
        "plt.show()"
      ],
      "execution_count": null,
      "outputs": [
        {
          "output_type": "display_data",
          "data": {
            "image/png": "[encoded data removed]",
            "text/plain": [
              "<Figure size 432x288 with 2 Axes>"
            ]
          },
          "metadata": {
            "tags": [],
            "needs_background": "light"
          }
        }
      ]
    },
    {
      "cell_type": "code",
      "metadata": {
        "id": "kFCY1PGc0eTc",
        "colab": {
          "base_uri": "https://localhost:8080/",
          "height": 295
        },
        "outputId": "9e6d585c-664a-47ba-8dee-1b713400c6ee"
      },
      "source": [
        "confusion_matrix = sklearn.metrics.plot_confusion_matrix(SVMClf, pca_testX, testY)\r\n",
        "plt.title(\"Radial Kernel SVM Confusion Matrix\")\r\n",
        "plt.show()"
      ],
      "execution_count": null,
      "outputs": [
        {
          "output_type": "display_data",
          "data": {
            "image/png": "[encoded data removed]",
            "text/plain": [
              "<Figure size 432x288 with 2 Axes>"
            ]
          },
          "metadata": {
            "tags": [],
            "needs_background": "light"
          }
        }
      ]
    },
    {
      "cell_type": "code",
      "metadata": {
        "id": "oNA3luhx07fa",
        "colab": {
          "base_uri": "https://localhost:8080/",
          "height": 352
        },
        "outputId": "b9912589-11e8-42b5-a43f-f02f4042b3e6"
      },
      "source": [
        "fig = plt.figure()\r\n",
        "\r\n",
        "ax = fig.add_axes([0,0,1,1])\r\n",
        "labels = ['KNN', 'Logistic Regression', 'Radial Kernel SVM']\r\n",
        "values = [KNN_TrainingTimes /60, LR_TrainingTimes /60, SVM_TrainingTime / 60]\r\n",
        "plt.title(\"Training Times\")\r\n",
        "ax.bar(labels, values)\r\n",
        "plt.show()\r\n",
        "\r\n"
      ],
      "execution_count": null,
      "outputs": [
        {
          "output_type": "display_data",
          "data": {
            "image/png": "[encoded data removed]",
            "text/plain": [
              "<Figure size 432x288 with 1 Axes>"
            ]
          },
          "metadata": {
            "tags": [],
            "needs_background": "light"
          }
        }
      ]
    },
    {
      "cell_type": "code",
      "metadata": {
        "id": "hLXs_qR3jlAC",
        "colab": {
          "base_uri": "https://localhost:8080/",
          "height": 352
        },
        "outputId": "cf80cd15-2e96-4ffd-8e6e-c16c441e9509"
      },
      "source": [
        "fig = plt.figure()\r\n",
        "ax = fig.add_axes([0,0,1,1])\r\n",
        "labels = ['KNN - Train','KNN - Test', 'LR - Train', 'LR - Test',  'RK SVM - Train', 'RK SVM - Test']\r\n",
        "values = [KNN_Errors, KNN_TestError, LR_TrainingError, LR_TestError, SVM_TrainingError, SVM_TestError]\r\n",
        "ax.bar(labels, values)\r\n",
        "plt.title('Classifier vs Error')\r\n",
        "plt.show()"
      ],
      "execution_count": null,
      "outputs": [
        {
          "output_type": "display_data",
          "data": {
            "image/png": "[encoded data removed]",
            "text/plain": [
              "<Figure size 432x288 with 1 Axes>"
            ]
          },
          "metadata": {
            "tags": [],
            "needs_background": "light"
          }
        }
      ]
    },
    {
      "cell_type": "markdown",
      "metadata": {
        "id": "bLgRnnc0462v"
      },
      "source": [
        "Confusion matrices, and Average Squared Mean Error are shown above. The classifiers did not perform the as well as I expected even with cross validation and preprocessing. SVM performed the best overall but it had the longest training time. LR came in second with relatively slower training times and KNN came in last. The Parametric classifiers seemed to have outperformed non-parametric classifier. And since it was an image dataset, I expected the radial kernel to outperform the remaining classifiers and it did that very well. COnfusion matrices shows that the KNN classifier set most of the labels to 3 and 5 with minimal label classification for 0,1, 2 and 4. I looked into it but I could not find why this was an issue (Will look into it on my own time later). TP, TN, FN, FP can clearly be seen under confusion matrices."
      ]
    },
    {
      "cell_type": "markdown",
      "metadata": {
        "id": "BZTs5g1GkKtJ"
      },
      "source": [
        "###f\r\n",
        "\r\n",
        "Ethhical aspect of machine learning tasks for this dataset would exist while gathering the data. So, taking pictures of a prohibited property would raise a bunch of problems. Taking pictures of buildings could cause legal issues with taking pictures of buildings without owners permission, or government/military buildings in any country that could be posed as a security threat. For street pictures, it possible that there are cars present and then the number plates would reveal somones private information which they might not want to be shared. For mountains and forest, you could be disturbing the habitat by being around it or it could be possible that the law restricts entering the area for preservation. Sea pictures could raise issues with safety if on a boat and given thats its not international waters, the rules and regulations restricting traveling in their water bodies. "
      ]
    },
    {
      "cell_type": "markdown",
      "metadata": {
        "id": "4vo5J1MLkOfQ"
      },
      "source": [
        "###g\r\n",
        "\r\n",
        "@article{scikit-learn,\r\n",
        " title={Scikit-learn: Machine Learning in {P}ython},\r\n",
        " author={Pedregosa, F. and Varoquaux, G. and Gramfort, A. and Michel, V.\r\n",
        "         and Thirion, B. and Grisel, O. and Blondel, M. and Prettenhofer, P.\r\n",
        "         and Weiss, R. and Dubourg, V. and Vanderplas, J. and Passos, A. and\r\n",
        "         Cournapeau, D. and Brucher, M. and Perrot, M. and Duchesnay, E.},\r\n",
        " journal={Journal of Machine Learning Research},\r\n",
        " volume={12},\r\n",
        " pages={2825--2830},\r\n",
        " year={2011}\r\n",
        "}\r\n",
        "\r\n",
        "Weblinks:\r\n",
        "\r\n",
        "https://scikit-learn.org/stable/modules/generated/sklearn.neighbors.KNeighborsClassifier.html\r\n",
        "\r\n",
        "https://scikit-learn.org/stable/modules/neighbors.html#classification\r\n",
        "\r\n",
        "https://scikit-learn.org/stable/modules/generated/sklearn.svm.SVC.html\r\n",
        "\r\n",
        "https://scikit-learn.org/stable/modules/svm.html#svm-classification\r\n",
        "\r\n",
        "https://scikit-learn.org/stable/modules/generated/sklearn.linear_model.LogisticRegression.html\r\n",
        "\r\n",
        "https://scikit-learn.org/stable/modules/linear_model.html#logistic-regression\r\n",
        "\r\n",
        "\r\n",
        "https://scikit-image.org/docs/0.7.0/api/skimage.io.html#concatenate-images\r\n",
        "\r\n",
        "https://scikit-image.org/docs/0.7.0/api/skimage.io.collection.html\r\n",
        "\r\n",
        "https://scikit-learn.org/stable/modules/generated/sklearn.model_selection.KFold.html\r\n",
        "\r\n",
        "https://scikit-learn.org/stable/modules/generated/sklearn.preprocessing.StandardScaler.html\r\n",
        "\r\n",
        "https://scikit-learn.org/stable/modules/svm.html#svm-kernels\r\n",
        "\r\n",
        "https://scikit-learn.org/stable/auto_examples/svm/plot_rbf_parameters.html#sphx-glr-auto-examples-svm-plot-rbf-parameters-py\r\n",
        "\r\n",
        "\r\n",
        "\r\n",
        "Stéfan van der Walt, Johannes L. Schönberger, Juan Nunez-Iglesias, François Boulogne, Joshua D. Warner, Neil Yager, Emmanuelle Gouillart, Tony Yu and the scikit-image contributors. scikit-image: Image processing in Python. PeerJ 2:e453 (2014) https://doi.org/10.7717/peerj.453 \r\n",
        "\r\n",
        "Weblinks:\r\n",
        "\r\n",
        "https://scikit-image.org/docs/stable/api/skimage.io.html#imagecollection\r\n",
        "\r\n",
        "\r\n",
        "https://scikit-image.org/docs/stable/api/skimage.io.html#concatenate-images"
      ]
    }
  ]
}