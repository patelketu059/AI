{
  "nbformat": 4,
  "nbformat_minor": 0,
  "metadata": {
    "colab": {
      "name": "MLE_Multivariate_Clustering.ipynb",
      "provenance": []
    },
    "kernelspec": {
      "name": "python3",
      "display_name": "Python 3"
    }
  },
  "cells": [
    {
      "cell_type": "code",
      "metadata": {
        "id": "VxM4kHpdQsjl",
        "colab": {
          "base_uri": "https://localhost:8080/"
        },
        "outputId": "1f37443d-0c72-403a-ab11-e224c4123ffb"
      },
      "source": [
        "import numpy as np\r\n",
        "import pandas as pd\r\n",
        "from scipy import stats as sps\r\n",
        "from matplotlib import pyplot as plt\r\n",
        "from skimage import io\r\n",
        "import skimage\r\n",
        "import time\r\n",
        "from PIL import Image\r\n",
        "from sklearn.decomposition import PCA\r\n",
        "from sklearn.preprocessing import StandardScaler\r\n",
        "from sklearn.mixture import GaussianMixture\r\n",
        "\r\n",
        "from sklearn.cluster import KMeans\r\n",
        "from sklearn.model_selection import KFold\r\n",
        "from sklearn.metrics import silhouette_score as ss\r\n",
        "!pip install scikit-learn-extra"
      ],
      "execution_count": 154,
      "outputs": [
        {
          "output_type": "stream",
          "text": [
            "Requirement already satisfied: scikit-learn-extra in /usr/local/lib/python3.6/dist-packages (0.1.0b2)\n",
            "Requirement already satisfied: scipy>=0.19.1 in /usr/local/lib/python3.6/dist-packages (from scikit-learn-extra) (1.4.1)\n",
            "Requirement already satisfied: numpy>=1.13.3 in /usr/local/lib/python3.6/dist-packages (from scikit-learn-extra) (1.19.4)\n",
            "Requirement already satisfied: scikit-learn>=0.21.0 in /usr/local/lib/python3.6/dist-packages (from scikit-learn-extra) (0.22.2.post1)\n",
            "Requirement already satisfied: joblib>=0.11 in /usr/local/lib/python3.6/dist-packages (from scikit-learn>=0.21.0->scikit-learn-extra) (1.0.0)\n"
          ],
          "name": "stdout"
        }
      ]
    },
    {
      "cell_type": "code",
      "metadata": {
        "colab": {
          "base_uri": "https://localhost:8080/"
        },
        "id": "Jd515tz1Ue2Z",
        "outputId": "f6bb3ef1-31ab-4b7a-9564-69312165b353"
      },
      "source": [
        "from google.colab import drive\r\n",
        "drive.mount('/content/drive')"
      ],
      "execution_count": 3,
      "outputs": [
        {
          "output_type": "stream",
          "text": [
            "Mounted at /content/drive\n"
          ],
          "name": "stdout"
        }
      ]
    },
    {
      "cell_type": "code",
      "metadata": {
        "colab": {
          "base_uri": "https://localhost:8080/"
        },
        "id": "ta3Ukb1gUftW",
        "outputId": "be0850b6-76fb-434a-8130-96b65ba17c55"
      },
      "source": [
        "!unzip '/content/drive/My Drive/Colab Notebooks/ClusteringDataset/HumanActivity.zip'"
      ],
      "execution_count": 4,
      "outputs": [
        {
          "output_type": "stream",
          "text": [
            "Archive:  /content/drive/My Drive/Colab Notebooks/ClusteringDataset/HumanActivity.zip\n",
            "  inflating: test.csv                \n",
            "  inflating: train.csv               \n"
          ],
          "name": "stdout"
        }
      ]
    },
    {
      "cell_type": "markdown",
      "metadata": {
        "id": "187rTSSMX34w"
      },
      "source": [
        "###a"
      ]
    },
    {
      "cell_type": "code",
      "metadata": {
        "id": "yMxLjmLlVVvs"
      },
      "source": [
        "trainDataset = pd.read_csv('/content/train.csv')\r\n",
        "testDataset = pd.read_csv('/content/test.csv')"
      ],
      "execution_count": 102,
      "outputs": []
    },
    {
      "cell_type": "code",
      "metadata": {
        "colab": {
          "base_uri": "https://localhost:8080/"
        },
        "id": "gFqah7juWkLX",
        "outputId": "0aae270e-2c2d-4ca6-8cdb-0be1abc0044a"
      },
      "source": [
        "print(\"Train Set -- Number of Samples : \", trainDataset.shape[0], \"Number of Features: \", trainDataset.shape[1])\r\n",
        "print(\"Test Set  -- Number of Samples : \", testDataset.shape[0], \"Number of Features: \", trainDataset.shape[1])\r\n",
        "print(\"NaN Values exist: \",trainDataset.isnull().values.any())\r\n",
        "print(\"Number of Categorical Variables: \", 2, 'Activity and Subject')\r\n"
      ],
      "execution_count": 103,
      "outputs": [
        {
          "output_type": "stream",
          "text": [
            "Train Set -- Number of Samples :  7352 Number of Features:  563\n",
            "Test Set  -- Number of Samples :  2947 Number of Features:  563\n",
            "NaN Values exist:  False\n",
            "Number of Categorical Variables:  2 Activity and Subject\n"
          ],
          "name": "stdout"
        }
      ]
    },
    {
      "cell_type": "code",
      "metadata": {
        "colab": {
          "base_uri": "https://localhost:8080/",
          "height": 466
        },
        "id": "sK1NTMD4X1Rn",
        "outputId": "a66a3b0b-ad9a-46ec-c2f4-e1a0c3d379de"
      },
      "source": [
        "fig = plt.figure()\r\n",
        "fig.xlabel = \"Activity Labels\"\r\n",
        "fig.ylabel = \"Number of Samples\"\r\n",
        "ax = fig.add_axes([0,0,1,1])\r\n",
        "labels = ['Laying', 'Standing', 'Sitting', 'Walking', 'W. Upstairs', 'W. Downstairs']\r\n",
        "print(trainDataset['Activity'].value_counts())\r\n",
        "ax.bar(labels, trainDataset['Activity'].value_counts(sort = True))\r\n",
        "plt.show()\r\n"
      ],
      "execution_count": 104,
      "outputs": [
        {
          "output_type": "stream",
          "text": [
            "LAYING                1407\n",
            "STANDING              1374\n",
            "SITTING               1286\n",
            "WALKING               1226\n",
            "WALKING_UPSTAIRS      1073\n",
            "WALKING_DOWNSTAIRS     986\n",
            "Name: Activity, dtype: int64\n"
          ],
          "name": "stdout"
        },
        {
          "output_type": "display_data",
          "data": {
            "image/png": "[encoded data removed]",
            "text/plain": [
              "<Figure size 432x288 with 1 Axes>"
            ]
          },
          "metadata": {
            "tags": [],
            "needs_background": "light"
          }
        }
      ]
    },
    {
      "cell_type": "markdown",
      "metadata": {
        "id": "VixBWufcQLqF"
      },
      "source": [
        "All the parameters attached with this dataset are numerical except the subject and Activity parameters which are categorical. We are getting rid of them either way before clustering. There are no NaN values since all the data is available. And the dataset is also unbalanced as seen in the histogram.\r\n",
        "\r\n",
        "\r\n"
      ]
    },
    {
      "cell_type": "markdown",
      "metadata": {
        "id": "QPJn5AMdezY0"
      },
      "source": [
        "###b"
      ]
    },
    {
      "cell_type": "code",
      "metadata": {
        "colab": {
          "base_uri": "https://localhost:8080/"
        },
        "id": "REvKVfZLkbXZ",
        "outputId": "cdc515c1-d204-480c-c84d-d64ed8156be6"
      },
      "source": [
        "\r\n",
        "trainDataset['Activity'] = trainDataset['Activity'].replace('STANDING', 0)\r\n",
        "trainDataset['Activity'] = trainDataset['Activity'].replace('SITTING', 1)\r\n",
        "trainDataset['Activity'] = trainDataset['Activity'].replace('LAYING', 2)\r\n",
        "trainDataset['Activity'] = trainDataset['Activity'].replace('WALKING', 3)\r\n",
        "trainDataset['Activity'] = trainDataset['Activity'].replace('WALKING_DOWNSTAIRS', 4)\r\n",
        "trainDataset['Activity'] = trainDataset['Activity'].replace('WALKING_UPSTAIRS', 5)\r\n",
        "\r\n",
        "\r\n",
        "testDataset['Activity'] = testDataset['Activity'].replace('STANDING', 0)\r\n",
        "testDataset['Activity'] = testDataset['Activity'].replace('SITTING', 1)\r\n",
        "testDataset['Activity'] = testDataset['Activity'].replace('LAYING', 2)\r\n",
        "testDataset['Activity'] = testDataset['Activity'].replace('WALKING', 3)\r\n",
        "testDataset['Activity'] = testDataset['Activity'].replace('WALKING_DOWNSTAIRS', 4)\r\n",
        "testDataset['Activity'] = testDataset['Activity'].replace('WALKING_UPSTAIRS', 5)\r\n",
        "\r\n",
        "trainX = trainDataset.sample(frac=1).reset_index(drop=True)\r\n",
        "trainX = trainX.sample(frac=1).reset_index(drop=True)\r\n",
        "trainY = trainDataset['Activity']\r\n",
        "trainX = trainX.drop(columns = ['subject', 'Activity'])\r\n",
        "print(\"Train - \", trainX.shape)\r\n",
        "\r\n",
        "\r\n",
        "testX = testDataset.sample(frac=1).reset_index(drop=True)\r\n",
        "testX = testX.sample(frac=1).reset_index(drop=True)\r\n",
        "testY = testX['Activity']\r\n",
        "testX = testX.drop(columns = ['subject', 'Activity'])\r\n",
        "print(\"Test -  \", testX.shape)"
      ],
      "execution_count": 112,
      "outputs": [
        {
          "output_type": "stream",
          "text": [
            "Train -  (7352, 561)\n",
            "Test -   (2947, 561)\n"
          ],
          "name": "stdout"
        }
      ]
    },
    {
      "cell_type": "code",
      "metadata": {
        "id": "Mxs1bar7e1Ph"
      },
      "source": [
        "\r\n",
        "scaler = StandardScaler()\r\n",
        "trainX = scaler.fit_transform(trainX)\r\n",
        "trainX = pd.DataFrame(trainX)\r\n",
        "\r\n",
        "\r\n",
        "scaler = StandardScaler()\r\n",
        "testX = scaler.fit_transform(testX)\r\n",
        "testX = pd.DataFrame(testX)\r\n"
      ],
      "execution_count": 113,
      "outputs": []
    },
    {
      "cell_type": "markdown",
      "metadata": {
        "id": "H4_8Whgmus7I"
      },
      "source": [
        "Converting all the labels to numerical values and removing all the categorical parameters from the training and testing set. Setting all the labels from 0 to 5, so the same number as the clusters which will allow me to check for scores later on in the evaluation. Other than that, no preprocessing was necessary since the data came preprocessed from the source. The values were already passed through noise filters and frequency filters. I standardized the data so that I could use the Gaussian Mixture model."
      ]
    },
    {
      "cell_type": "markdown",
      "metadata": {
        "id": "eUQ3IIAcnD4S"
      },
      "source": [
        "###c"
      ]
    },
    {
      "cell_type": "code",
      "metadata": {
        "colab": {
          "base_uri": "https://localhost:8080/"
        },
        "id": "qOHMZj2pl5fN",
        "outputId": "ab345188-0ba3-4254-e931-86416e96412d"
      },
      "source": [
        "pca = PCA(0.98, svd_solver='full').fit(trainX)\r\n",
        "trainX = pca.transform(trainX)\r\n",
        "print(trainX.shape)"
      ],
      "execution_count": 114,
      "outputs": [
        {
          "output_type": "stream",
          "text": [
            "(7352, 148)\n"
          ],
          "name": "stdout"
        }
      ]
    },
    {
      "cell_type": "code",
      "metadata": {
        "colab": {
          "base_uri": "https://localhost:8080/"
        },
        "id": "hjscmankmOk_",
        "outputId": "956c35d7-5c0c-4c18-9915-23fd861cc847"
      },
      "source": [
        "pca = PCA(148, svd_solver='full').fit(testX)\r\n",
        "testX = pca.transform(testX)\r\n",
        "print(testX.shape)\r\n",
        "\r\n",
        "\r\n",
        "pca_trainX = trainX\r\n",
        "pca_testX = testX"
      ],
      "execution_count": 115,
      "outputs": [
        {
          "output_type": "stream",
          "text": [
            "(2947, 148)\n"
          ],
          "name": "stdout"
        }
      ]
    },
    {
      "cell_type": "code",
      "metadata": {
        "id": "XOUGGXB8uhD8"
      },
      "source": [
        "pca_trainX = trainX \r\n",
        "pca_testX = testX"
      ],
      "execution_count": 106,
      "outputs": []
    },
    {
      "cell_type": "markdown",
      "metadata": {
        "id": "WWWWTKBoo7NL"
      },
      "source": [
        "I used PCA to reduce dimensionality and get rid of parameters that did not have any effect on the entire dataset (low variance got thrown out). I tried to use the dataset without using PCA and I was getting a lot of overlapping clusters so for comparison I used PCA and saw relatively better results (especially for Gaussian Mixture)"
      ]
    },
    {
      "cell_type": "markdown",
      "metadata": {
        "id": "_DgkIVv4nsJ1"
      },
      "source": [
        "###d\r\n"
      ]
    },
    {
      "cell_type": "markdown",
      "metadata": {
        "id": "cQfmqLcsnvzH"
      },
      "source": [
        "######K - Means Clusteirng"
      ]
    },
    {
      "cell_type": "code",
      "metadata": {
        "colab": {
          "base_uri": "https://localhost:8080/"
        },
        "id": "T30yI46cnuW7",
        "outputId": "c300230f-68b6-4ec4-c3a3-0715e7bef070"
      },
      "source": [
        "KFolds = KFold(6, shuffle = True)\r\n",
        "KFolds.get_n_splits(pca_trainX)\r\n",
        "KFolds.split(pca_trainX)\r\n",
        "count = 0\r\n",
        "pca_trainX = pd.DataFrame(pca_trainX)\r\n",
        "tolValues = [5, 1, 0.1, 0.01, 0.001, 0.0001]\r\n",
        "count = 0\r\n",
        "for train_data, test_data in KFolds.split(pca_trainX):\r\n",
        "  X_train, X_test = pca_trainX.iloc[train_data] , pca_trainX.iloc[test_data]\r\n",
        "  Y_test = trainY.iloc[test_data]\r\n",
        "  KMeansClg = KMeans(n_clusters= 6, init= 'random', n_init = 30, max_iter = 2000, tol = tolValues[count], algorithm ='full')\r\n",
        "  KMeansClg.fit(X_train)\r\n",
        "  resultKMeans = KMeansClg.predict(X_test)\r\n",
        "  clusterDist = KMeansClg.inertia_ / X_test.shape[0]\r\n",
        "  sil_score = ss(X_test, resultKMeans)\r\n",
        "  print(\"Number of iterations: \", KMeansClg.n_iter_, \"Tolerance: \", tolValues[count], \"Average Sum Distance of all points to centroid: : \", round(clusterDist, 3), \\\r\n",
        "        \"Silhouette Score: \", round(sil_score, 3))\r\n",
        "  count  += 1"
      ],
      "execution_count": 117,
      "outputs": [
        {
          "output_type": "stream",
          "text": [
            "Number of iterations:  3 Tolerance:  5 Average Sum Distance of all points to centroid: :  1192.984 Silhouette Score:  0.104\n",
            "Number of iterations:  11 Tolerance:  1 Average Sum Distance of all points to centroid: :  1172.668 Silhouette Score:  0.117\n",
            "Number of iterations:  7 Tolerance:  0.1 Average Sum Distance of all points to centroid: :  1192.351 Silhouette Score:  0.117\n",
            "Number of iterations:  17 Tolerance:  0.01 Average Sum Distance of all points to centroid: :  1181.501 Silhouette Score:  0.114\n",
            "Number of iterations:  25 Tolerance:  0.001 Average Sum Distance of all points to centroid: :  1187.647 Silhouette Score:  0.114\n",
            "Number of iterations:  26 Tolerance:  0.0001 Average Sum Distance of all points to centroid: :  1164.975 Silhouette Score:  0.115\n"
          ],
          "name": "stdout"
        }
      ]
    },
    {
      "cell_type": "code",
      "metadata": {
        "colab": {
          "base_uri": "https://localhost:8080/"
        },
        "id": "jXliMgQjA6hw",
        "outputId": "2c7e404b-c4fd-4e7a-8f5e-9f6651109ffc"
      },
      "source": [
        "KMeansClg = KMeans(n_clusters= 6, init= 'random', max_iter = 2000, tol = 1, algorithm ='full')\r\n",
        "KMeansClg.fit(pca_trainX)\r\n",
        "resultKMeans = KMeansClg.predict(pca_testX)\r\n",
        "clusterDistKMean = KMeansClg.inertia_ / pca_testX.shape[0]\r\n",
        "sil_score_KMean = ss(pca_testX, resultKMeans)\r\n",
        "print(\"Number of iterations with updates Means: \", KMeansClg.n_iter_, \"Tolerance: \", 1, \"Average Sum Distance of all points to centroid: : \", round(clusterDistKMean, 3), \\\r\n",
        "      \"Silhouette Score: \", round(sil_score_KMean, 3))"
      ],
      "execution_count": 149,
      "outputs": [
        {
          "output_type": "stream",
          "text": [
            "Number of iterations with updates Means:  8 Tolerance:  1 Average Sum Distance of all points to centroid: :  593.478 Silhouette Score:  0.119\n"
          ],
          "name": "stdout"
        }
      ]
    },
    {
      "cell_type": "markdown",
      "metadata": {
        "id": "e4F7prziDatZ"
      },
      "source": [
        "###### K Mediods\r\n"
      ]
    },
    {
      "cell_type": "code",
      "metadata": {
        "colab": {
          "base_uri": "https://localhost:8080/"
        },
        "id": "JFmxUKsEDdUP",
        "outputId": "84b76b58-c7a4-43c7-bbc2-9fde75cea5d3"
      },
      "source": [
        "from sklearn_extra.cluster import KMedoids\r\n",
        "iterations = [500, 600, 900 , 1000, 1300, 1500]\r\n",
        "KFolds = KFold(6, shuffle = True)\r\n",
        "KFolds.get_n_splits(pca_trainX)\r\n",
        "KFolds.split(pca_trainX)\r\n",
        "KMediod_error = 0\r\n",
        "count = 0\r\n",
        "pca_trainX = pd.DataFrame(pca_trainX)\r\n",
        "for train_data, test_data in KFolds.split(pca_trainX):\r\n",
        "  X_train, X_test = pca_trainX.iloc[train_data] , pca_trainX.iloc[test_data]\r\n",
        "  Y_test = trainY.iloc[test_data]\r\n",
        "  KMedoidClg = KMedoids(n_clusters = 6, metric = 'manhattan', init = 'random', max_iter = iterations[count])\r\n",
        "  KMedoidClg.fit(X_train)\r\n",
        "  resultKMedoid = KMedoidClg.predict(X_test)\r\n",
        "  clusterDist = KMedoidClg.inertia_ / X_test.shape[0]\r\n",
        "  sil_score = ss(X_test, resultKMedoid)\r\n",
        "  print(\"Number of Iterations: \", iterations[count], \"Average Sum Distance of all points to centroid: : \", round(clusterDist, 3), \\\r\n",
        "      \"Silhouette Score: \", round(sil_score, 3))\r\n",
        "  count  += 1"
      ],
      "execution_count": 119,
      "outputs": [
        {
          "output_type": "stream",
          "text": [
            "Number of Iterations:  500 Average Sum Distance of all points to centroid: :  737.887 Silhouette Score:  0.036\n",
            "Number of Iterations:  600 Average Sum Distance of all points to centroid: :  736.326 Silhouette Score:  0.029\n",
            "Number of Iterations:  900 Average Sum Distance of all points to centroid: :  730.943 Silhouette Score:  0.101\n",
            "Number of Iterations:  1000 Average Sum Distance of all points to centroid: :  730.339 Silhouette Score:  0.073\n",
            "Number of Iterations:  1300 Average Sum Distance of all points to centroid: :  731.301 Silhouette Score:  0.045\n",
            "Number of Iterations:  1500 Average Sum Distance of all points to centroid: :  726.428 Silhouette Score:  -0.009\n"
          ],
          "name": "stdout"
        }
      ]
    },
    {
      "cell_type": "code",
      "metadata": {
        "colab": {
          "base_uri": "https://localhost:8080/"
        },
        "id": "jiyREN6aHlBR",
        "outputId": "e1dd09cf-56fb-421a-a3a5-7a3a62223acc"
      },
      "source": [
        "KMedoidClg = KMedoids(n_clusters = 6, metric = 'manhattan', init = 'random', max_iter = 900)\r\n",
        "KMedoidClg.fit(pca_trainX)\r\n",
        "resultKMedoid = KMedoidClg.predict(pca_testX)\r\n",
        "clusterDistKMedoid = KMedoidClg.inertia_ / pca_testX.shape[0]\r\n",
        "sil_score_KMedoid = ss(pca_testX, resultKMedoid)\r\n",
        "print(\"Number of Iterations: \", 900, \"Average Sum Distance of all points to centroid: : \", round(clusterDistKMedoid, 3), \\\r\n",
        "    \"Silhouette Score: \", round(sil_score_KMedoid, 3))"
      ],
      "execution_count": 152,
      "outputs": [
        {
          "output_type": "stream",
          "text": [
            "Number of Iterations:  900 Average Sum Distance of all points to centroid: :  369.434 Silhouette Score:  0.036\n"
          ],
          "name": "stdout"
        }
      ]
    },
    {
      "cell_type": "markdown",
      "metadata": {
        "id": "MIhwj7kzJxU8"
      },
      "source": [
        "###### EM Clustering - Gaussian Mixture\r\n"
      ]
    },
    {
      "cell_type": "code",
      "metadata": {
        "id": "jiWXUwaGN4xn",
        "colab": {
          "base_uri": "https://localhost:8080/"
        },
        "outputId": "f2e33f1b-478a-4c4e-fbd2-84241a7adea5"
      },
      "source": [
        "KFolds = KFold(6, shuffle = True)\r\n",
        "tolValues = [10, 1, 0.1, 0.01, 0.001, 0.0001]\r\n",
        "KFolds.get_n_splits(pca_trainX)\r\n",
        "KFolds.split(pca_trainX)\r\n",
        "\r\n",
        "count = 0\r\n",
        "pca_trainX = pd.DataFrame(pca_trainX)\r\n",
        "for train_data, test_data in KFolds.split(pca_trainX):\r\n",
        "  X_train, X_test = pca_trainX.iloc[train_data] , pca_trainX.iloc[test_data]\r\n",
        "  Y_test = trainY.iloc[test_data]\r\n",
        "  GMClg = GaussianMixture(n_components = 6, covariance_type= 'full', tol = tolValues[count], max_iter = 1000, n_init = 10, init_params = 'random')\r\n",
        "  GMClg.fit(X_train)\r\n",
        "  resultGM = GMClg.predict(X_test)\r\n",
        "  sil_score = ss(X_test, Y_test)\r\n",
        "  print(\"Tolerance: \", tolValues[count], \"Score: \", sil_score)\r\n",
        "  count  += 1"
      ],
      "execution_count": 121,
      "outputs": [
        {
          "output_type": "stream",
          "text": [
            "Tolerance:  10 Score:  -0.02220440468176362\n",
            "Tolerance:  1 Score:  -0.027540037173796078\n",
            "Tolerance:  0.1 Score:  -0.026901530668640768\n",
            "Tolerance:  0.01 Score:  -0.02360228461586858\n",
            "Tolerance:  0.001 Score:  -0.022578448504043745\n",
            "Tolerance:  0.0001 Score:  -0.05814357132058353\n"
          ],
          "name": "stdout"
        }
      ]
    },
    {
      "cell_type": "code",
      "metadata": {
        "id": "3_KD54hoWvgI",
        "colab": {
          "base_uri": "https://localhost:8080/"
        },
        "outputId": "62446b95-c92d-413c-9fcd-6cd0b39fb774"
      },
      "source": [
        "GMClg = GaussianMixture(n_components = 6, covariance_type= 'full', tol = 0.01, max_iter = 1000, n_init = 15, init_params = 'random')\r\n",
        "GMClg.fit(pca_trainX)\r\n",
        "resultGM = GMClg.predict(pca_testX)\r\n",
        "sil_score_GM = ss(pca_testX, testY)\r\n",
        "print(\"Number of iterations with updates Means: \", 15, \"Tolerance: \", 0.01, \"Score: \", score)"
      ],
      "execution_count": 125,
      "outputs": [
        {
          "output_type": "stream",
          "text": [
            "Number of iterations with updates Means:  15 Tolerance:  0.01 Score:  0.06771541251422357\n"
          ],
          "name": "stdout"
        }
      ]
    },
    {
      "cell_type": "markdown",
      "metadata": {
        "id": "-3eTAbhd2Cu1"
      },
      "source": [
        "I used Kmeans and KMedoids to compare performance between Euclidian distance and Manhattan distance between clusters and how the clusters form depending on these distances. I also wanted to see which clusters form more densely between these two methods.\r\n",
        "\r\n",
        "I used Gaussian Mixture, based on EM, to see optimal performance in clustering but I did not have very good luck with that. I did not see the results I was expecting.\r\n",
        "\r\n",
        "I also cross validated some the parameters like number of iterations amd tolerance for these tasks as well and returned the best results with it."
      ]
    },
    {
      "cell_type": "markdown",
      "metadata": {
        "id": "jMLpQ6xeTZ1p"
      },
      "source": [
        "###e\r\n"
      ]
    },
    {
      "cell_type": "code",
      "metadata": {
        "colab": {
          "base_uri": "https://localhost:8080/",
          "height": 352
        },
        "id": "ybndFbgBy2SR",
        "outputId": "4cc8ae4f-406c-4ed2-d2df-2f4a6514145c"
      },
      "source": [
        "fig = plt.figure()\r\n",
        "\r\n",
        "ax = fig.add_axes([0,0,1,1])\r\n",
        "labels = ['KMean', 'KMedoid', 'Gaussian Mixture']\r\n",
        "values = [sil_score_KMean, sil_score_KMedoid, sil_score_GM]\r\n",
        "plt.title(\"Silhouette_score\")\r\n",
        "ax.bar(labels, values)\r\n",
        "plt.show()\r\n"
      ],
      "execution_count": 126,
      "outputs": [
        {
          "output_type": "display_data",
          "data": {
            "image/png": "[encoded data removed]",
            "text/plain": [
              "<Figure size 432x288 with 1 Axes>"
            ]
          },
          "metadata": {
            "tags": [],
            "needs_background": "light"
          }
        }
      ]
    },
    {
      "cell_type": "code",
      "metadata": {
        "colab": {
          "base_uri": "https://localhost:8080/",
          "height": 352
        },
        "id": "C4zAqQyhzfxS",
        "outputId": "a2e17a86-62b9-4e18-e399-d1925469d95d"
      },
      "source": [
        "fig = plt.figure()\r\n",
        "\r\n",
        "ax = fig.add_axes([0,0,1,1])\r\n",
        "labels = ['KMean', 'KMedoid']\r\n",
        "values = [clusterDistKMean, clusterDistKMedoid]\r\n",
        "plt.title(\"Average Sum Distance from Centroid\")\r\n",
        "ax.bar(labels, values)\r\n",
        "plt.show()\r\n"
      ],
      "execution_count": 155,
      "outputs": [
        {
          "output_type": "display_data",
          "data": {
            "image/png": "[encoded data removed]",
            "text/plain": [
              "<Figure size 432x288 with 1 Axes>"
            ]
          },
          "metadata": {
            "tags": [],
            "needs_background": "light"
          }
        }
      ]
    },
    {
      "cell_type": "markdown",
      "metadata": {
        "id": "UW8vzpf-3Bck"
      },
      "source": [
        "The best clusters were formed under KMean algorithm followed KMedoid and Gaussian Mixture being very close for the 2nd spot, this can be seen by the silhoutte score hiustogram.\r\n",
        "\r\n",
        "By best clusters I mean, clusters forming away from other clusters relative to each sample in the cluster. \r\n",
        "\r\n",
        "I could not get the average sum distance for GM but the results for KMena and KMedoi are seen above. KMedoid seemed to have denser clusters compared to KMean."
      ]
    },
    {
      "cell_type": "markdown",
      "metadata": {
        "id": "5syyygb2TcCK"
      },
      "source": [
        "###f\r\n",
        "The ethical tasks for this dataaset could have occured while collecting the data. Although the participants volunteered, they would have been under pressure to approximately do a certain instances of each type of task and if someone was injured during data collection period, they would be \"obligated\" to finsih the collection to avoid discrepancies in data. The participants could also think of this as breach of privacy (even though they volunteered), it is tracking the person which is essentially the goal but they might want to the data to reflect all their actions taking place. These are very blurry ethical issues but could rise to occasion if a problem occurs between participants."
      ]
    },
    {
      "cell_type": "markdown",
      "metadata": {
        "id": "8N_i7abTUuc7"
      },
      "source": [
        "###g\r\n",
        "@article{scikit-learn,\r\n",
        " title={Scikit-learn: Machine Learning in {P}ython},\r\n",
        " author={Pedregosa, F. and Varoquaux, G. and Gramfort, A. and Michel, V.\r\n",
        "         and Thirion, B. and Grisel, O. and Blondel, M. and Prettenhofer, P.\r\n",
        "         and Weiss, R. and Dubourg, V. and Vanderplas, J. and Passos, A. and\r\n",
        "         Cournapeau, D. and Brucher, M. and Perrot, M. and Duchesnay, E.},\r\n",
        " journal={Journal of Machine Learning Research},\r\n",
        " volume={12},\r\n",
        " pages={2825--2830},\r\n",
        " year={2011}\r\n",
        "}\r\n",
        "\r\n",
        "Weblinks:\r\n",
        "\r\n",
        "https://scikit-learn.org/stable/modules/clustering.html\r\n",
        "https://scikit-learn.org/stable/modules/generated/sklearn.cluster.KMeans.html\r\n",
        "https://scikit-learn.org/stable/modules/clustering.html#k-means\r\n",
        "https://scikit-learn.org/stable/auto_examples/cluster/plot_kmeans_assumptions.html#sphx-glr-auto-examples-cluster-plot-kmeans-assumptions-py\r\n",
        "https://scikit-learn-extra.readthedocs.io/en/latest/generated/sklearn_extra.cluster.KMedoids.html\r\n",
        "https://scikit-learn-extra.readthedocs.io/en/latest/user_guide.html#k-medoids\r\n",
        "https://scikit-learn-extra.readthedocs.io/en/latest/auto_examples/plot_kmedoids_digits.html#sphx-glr-auto-examples-plot-kmedoids-digits-py\r\n",
        "https://scikit-learn-extra.readthedocs.io/en/latest/user_guide.html#k-medoids\r\n",
        "https://scikit-learn.org/stable/modules/generated/sklearn.mixture.GaussianMixture.html\r\n",
        "https://scikit-learn.org/stable/modules/mixture.html#gmm\r\n",
        "https://scikit-learn.org/stable/auto_examples/mixture/plot_gmm_covariances.html#sphx-glr-auto-examples-mixture-plot-gmm-covariances-py\r\n",
        "https://en.wikipedia.org/wiki/Silhouette_(clustering)https://scikit-learn.org/\r\n",
        "\r\n",
        "\r\n",
        "@article{de_Amorim_2015,\r\n",
        "   title={Recovering the number of clusters in data sets with noise features using feature rescaling factors},\r\n",
        "   volume={324},\r\n",
        "   ISSN={0020-0255},\r\n",
        "   url={http://dx.doi.org/10.1016/j.ins.2015.06.039},\r\n",
        "   DOI={10.1016/j.ins.2015.06.039},\r\n",
        "   journal={Information Sciences},\r\n",
        "   publisher={Elsevier BV},\r\n",
        "   author={de Amorim, Renato Cordeiro and Hennig, Christian},\r\n",
        "   year={2015},\r\n",
        "   month={Dec},\r\n",
        "   pages={126–145}\r\n",
        "}\r\n",
        "\r\n",
        "Weblink:\r\n",
        "https://arxiv.org/pdf/1602.06989.pdf"
      ]
    }
  ]
}