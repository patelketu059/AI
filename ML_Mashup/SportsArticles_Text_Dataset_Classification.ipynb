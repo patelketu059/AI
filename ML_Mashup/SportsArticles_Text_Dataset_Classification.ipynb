{
  "nbformat": 4,
  "nbformat_minor": 0,
  "metadata": {
    "colab": {
      "name": "MLE_TextDataset.ipynb",
      "provenance": []
    },
    "kernelspec": {
      "name": "python3",
      "display_name": "Python 3"
    }
  },
  "cells": [
    {
      "cell_type": "code",
      "metadata": {
        "id": "xBw4iMlPvA_8",
        "colab": {
          "base_uri": "https://localhost:8080/"
        },
        "outputId": "e53ccc62-7ad6-4c26-9836-15d6da810752"
      },
      "source": [
        "import numpy as np\r\n",
        "import pandas as pd\r\n",
        "from scipy import stats as sps\r\n",
        "from matplotlib import pyplot as plt\r\n",
        "from skimage import io\r\n",
        "import skimage\r\n",
        "import time\r\n",
        "from PIL import Image\r\n",
        "from skimage.transform import resize\r\n",
        "from sklearn.preprocessing import StandardScaler\r\n",
        "from sklearn.model_selection import train_test_split\r\n",
        "import glob\r\n",
        "from sklearn.model_selection import KFold\r\n",
        "from collections import Counter\r\n",
        "from textblob import TextBlob\r\n",
        "import nltk\r\n",
        "from sklearn.metrics import f1_score as f1\r\n",
        "from sklearn.metrics import plot_roc_curve as roc\r\n",
        "from sklearn.neighbors import KNeighborsClassifier\r\n",
        "from sklearn.model_selection import KFold\r\n",
        "from sklearn.discriminant_analysis import LinearDiscriminantAnalysis as LDA\r\n",
        "from sklearn.linear_model import LogisticRegression\r\n",
        "\r\n",
        "import sklearn\r\n",
        "\r\n",
        "from nltk.corpus import stopwords\r\n",
        "nltk.download('punkt')\r\n",
        "nltk.download('averaged_perceptron_tagger')\r\n",
        "nltk.download('stopwords')"
      ],
      "execution_count": null,
      "outputs": [
        {
          "output_type": "stream",
          "text": [
            "[nltk_data] Downloading package punkt to /root/nltk_data...\n",
            "[nltk_data]   Package punkt is already up-to-date!\n",
            "[nltk_data] Downloading package averaged_perceptron_tagger to\n",
            "[nltk_data]     /root/nltk_data...\n",
            "[nltk_data]   Package averaged_perceptron_tagger is already up-to-\n",
            "[nltk_data]       date!\n",
            "[nltk_data] Downloading package stopwords to /root/nltk_data...\n",
            "[nltk_data]   Package stopwords is already up-to-date!\n"
          ],
          "name": "stdout"
        },
        {
          "output_type": "execute_result",
          "data": {
            "text/plain": [
              "True"
            ]
          },
          "metadata": {
            "tags": []
          },
          "execution_count": 6
        }
      ]
    },
    {
      "cell_type": "code",
      "metadata": {
        "colab": {
          "base_uri": "https://localhost:8080/"
        },
        "id": "jZ9ihILtvHXR",
        "outputId": "77a8f8fd-663f-4d2e-cb58-979b12753a1c"
      },
      "source": [
        "from google.colab import drive\r\n",
        "drive.mount('/content/drive')"
      ],
      "execution_count": null,
      "outputs": [
        {
          "output_type": "stream",
          "text": [
            "Mounted at /content/drive\n"
          ],
          "name": "stdout"
        }
      ]
    },
    {
      "cell_type": "code",
      "metadata": {
        "id": "mHJr5M2BvLr0"
      },
      "source": [
        "!unzip '/content/drive/My Drive/Colab Notebooks/TextDataset/SportsArticles.zip'"
      ],
      "execution_count": null,
      "outputs": []
    },
    {
      "cell_type": "markdown",
      "metadata": {
        "id": "Ic33e86g0UeN"
      },
      "source": [
        "###a"
      ]
    },
    {
      "cell_type": "code",
      "metadata": {
        "id": "-kWpO-Gvvb9A"
      },
      "source": [
        "beforeDataset = pd.read_excel('/content/SportsArticles/features.xlsx')"
      ],
      "execution_count": null,
      "outputs": []
    },
    {
      "cell_type": "code",
      "metadata": {
        "colab": {
          "base_uri": "https://localhost:8080/"
        },
        "id": "RU3hxT9owyLE",
        "outputId": "cb7a0f58-d42a-4fea-f199-82e311940d28"
      },
      "source": [
        "print(\"Total Number of available texts: \", len(glob.glob('/content/SportsArticles/Raw data/*')))\r\n",
        "df = beforeDataset[['TextID', 'Label']].copy(deep = True)\r\n",
        "print(\"All the text file names are stored in: \", df.columns[0], \" and the associated label is in: \", df.columns[1])\r\n",
        "print(\"There is only 1 dependent Variable: \", df.columns[1], \". All the other feature will be manually extracted from the textfiles.\")\r\n",
        "print(\"Distribution of Data per class:\")\r\n",
        "print(df['Label'].value_counts())"
      ],
      "execution_count": null,
      "outputs": [
        {
          "output_type": "stream",
          "text": [
            "Total Number of available texts:  1000\n",
            "All the text file names are stored in:  TextID  and the associated label is in:  Label\n",
            "There is only 1 dependent Variable:  Label . All the other feature will be manually extracted from the textfiles.\n",
            "Distribution of Data per class:\n",
            "objective     635\n",
            "subjective    365\n",
            "Name: Label, dtype: int64\n"
          ],
          "name": "stdout"
        }
      ]
    },
    {
      "cell_type": "markdown",
      "metadata": {
        "id": "Qgl1vDpP2JTz"
      },
      "source": [
        "Since we could not use given features from the original excel file, I removed all the features and kept the Labels and the name of the text files (corresponding to text files in Raw Data). There are no graphs are anything to be displayed since I dont have the features extracted yet."
      ]
    },
    {
      "cell_type": "markdown",
      "metadata": {
        "id": "tot-Yceq24Qg"
      },
      "source": [
        "###b and c\r\n"
      ]
    },
    {
      "cell_type": "code",
      "metadata": {
        "id": "zkG0GsaCGNwr"
      },
      "source": [
        "df['Label'] = df['Label'].replace(['objective', 'subjective'], [0,1])  # objective - 0 , subjective = 1"
      ],
      "execution_count": null,
      "outputs": []
    },
    {
      "cell_type": "code",
      "metadata": {
        "colab": {
          "base_uri": "https://localhost:8080/"
        },
        "id": "2Z8F1JiV2-Dx",
        "outputId": "b78dcc0b-3c8b-40d7-b5fa-25e5b564ee6f"
      },
      "source": [
        "columns = ['totalWords','numSentences','CC','CD','DT','EX','FW','IN','JJ','JJR',\r\n",
        "'JJS','LS','MD','NN','NNS','NNP','NNPS','PDT','POS','PRP','PRP$','RB','RBR','RBS',\r\n",
        "'RP','SYM','TO','UH','VB','VBD','VBG','VBN','VBP','VBZ','WDT','WP','WP$','WRB', \r\n",
        "'polarity', 'subjectivity', 'symbols', 'stops', 'stopRatio','exclamation','comma','period','colon']\r\n",
        "new_df = pd.DataFrame(columns=columns)\r\n",
        "for i in range(len(df)):\r\n",
        "  new_df.loc[len(new_df)] = 0\r\n",
        "  fetchText = '/content/SportsArticles/Raw data/' + df['TextID'][i] + '.txt'\r\n",
        "  #encoding=\"ISO-8859-1\"\r\n",
        "  fetchText = open(fetchText,errors=\"surrogateescape\").read()\r\n",
        "\r\n",
        "  forTextBlob = TextBlob(fetchText)\r\n",
        "\r\n",
        "  f = nltk.word_tokenize(fetchText.lower())\r\n",
        "  partsOfSpeech = nltk.pos_tag(f)\r\n",
        "  counts = Counter(y for word, y in partsOfSpeech)\r\n",
        "  new_df['totalWords'][i] = len(f)\r\n",
        "  new_df['numSentences'][i] = len(nltk.sent_tokenize(fetchText))\r\n",
        "  for y in counts:\r\n",
        "    if y in new_df.columns:\r\n",
        "      new_df[y][i] = counts[y]\r\n",
        "\r\n",
        "\r\n",
        "  new_df['polarity'][i] = forTextBlob.sentiment[0]\r\n",
        "  new_df['subjectivity'][i] = forTextBlob.sentiment[1]\r\n",
        "  new_df['symbols'][i] = len([word for word in f if word.isalnum() == False])\r\n",
        "  new_df['stops'][i] = len([word for word in f if word in stopwords.words('english')])\r\n",
        "  new_df['stopRatio'][i] = new_df['stops'][i] / new_df['totalWords'][i]\r\n",
        "  new_df['exclamation'][i] = len([word for word in f if word == '!' ])\r\n",
        "  new_df['comma'][i] = len([word for word in f if word == ',' ])\r\n",
        "  new_df['period'][i] = len([word for word in f if word == '.' ])\r\n",
        "  new_df['colon'][i] = len([word for word in f if word == ':' ])\r\n",
        "  ###^^47 features without label and file name \r\n",
        "\r\n",
        "\r\n",
        "scaler = StandardScaler()\r\n",
        "X = scaler.fit_transform(new_df)\r\n",
        "new_df = pd.DataFrame(X)\r\n",
        "new_df.columns = columns\r\n",
        "new_df.insert(47,'Mean', new_df[columns].mean(axis=1))\r\n",
        "new_df.insert(48,'Variance', new_df[columns].var(axis=1))\r\n",
        "new_df.insert(49,'Kurtosis', new_df[columns].kurtosis(axis=1))\r\n",
        "new_df.insert(50,'Skew', new_df[columns].skew(axis=1))\r\n",
        "###50 features without label and file names\r\n",
        "print(new_df)"
      ],
      "execution_count": null,
      "outputs": [
        {
          "output_type": "stream",
          "text": [
            "     totalWords  numSentences        CC  ...  Variance   Kurtosis      Skew\n",
            "0     -1.229073     -1.193325 -1.114542  ...  0.350496  11.861445  2.816829\n",
            "1     -0.542662     -0.404139 -0.569720  ...  0.330307   4.620011  1.321114\n",
            "2     -1.149802     -1.118164 -1.060060  ...  0.425829   9.747173  2.877049\n",
            "3     -0.800291     -0.855102 -1.005578  ...  0.086149   3.403836  1.439153\n",
            "4     -0.423757     -0.629620 -0.515238  ...  0.140462   5.330070  1.640137\n",
            "..          ...           ...       ...  ...       ...        ...       ...\n",
            "995    0.237431      0.009245  1.173710  ...  0.734205   2.736042  1.373271\n",
            "996    0.177978      0.121986  0.683370  ...  0.614391   9.783545  2.565623\n",
            "997    1.293170      1.662778  1.173710  ...  0.778962  -1.169021 -0.056237\n",
            "998   -0.149913      0.535369 -0.351791  ...  0.525644   5.706421  1.882933\n",
            "999    0.102311     -0.178657  0.792334  ...  0.316903   1.662808  1.166273\n",
            "\n",
            "[1000 rows x 51 columns]\n"
          ],
          "name": "stdout"
        }
      ]
    },
    {
      "cell_type": "code",
      "metadata": {
        "colab": {
          "base_uri": "https://localhost:8080/"
        },
        "id": "zRW04_DLb3sa",
        "outputId": "9c5d6d5e-cfa8-41eb-b7e9-604af0643664"
      },
      "source": [
        "Data = pd.concat([df, new_df], axis= 1)\r\n",
        "Data = Data.sample(frac=1).reset_index(drop=True)\r\n",
        "Data = Data.sample(frac=1).reset_index(drop=True)\r\n",
        "\r\n",
        "print(Data.shape)\r\n",
        "Y = Data['Label'].copy(deep=True)\r\n",
        "X = Data.drop(columns=['Label', 'TextID']).copy(deep = True)\r\n",
        "trainX, testX, trainY, testY = train_test_split(X, Y, test_size = 0.20, shuffle=True)\r\n",
        "\r\n",
        "trainX = pd.DataFrame(trainX).reset_index(drop=True)\r\n",
        "testX = pd.DataFrame(testX).reset_index(drop=True)\r\n",
        "print(\"Training Data shape\" , trainX.shape)\r\n",
        "print(\"Test Data shape\" , testX.shape)\r\n"
      ],
      "execution_count": null,
      "outputs": [
        {
          "output_type": "stream",
          "text": [
            "(1000, 53)\n",
            "Training Data shape (800, 51)\n",
            "Test Data shape (200, 51)\n"
          ],
          "name": "stdout"
        }
      ]
    },
    {
      "cell_type": "markdown",
      "metadata": {
        "id": "JD4ZwgsSMaQz"
      },
      "source": [
        "Since I didn't have any features to start with I started by extracting the features and applied pre-processing technique on the dataset to extract more features.\r\n",
        "\r\n",
        "I started off with using NLTK library to go through all the words in the paragraph given and extracted about 46 features seen in the columns. Then I standardized all the data to have equal weights in all columns and not have too much weight on totalWords or other columns where the values were way larger compared to other parameters. This enabled me to calculate the mean, variance, kurtosis, skew across all the calculated parameters and add these variables as additonal parameters. The standardization was necessary to calculate accurate additional parameters mentioned before. I am exulding the 'Label' and 'TextID' from this part because they are not numerical data. "
      ]
    },
    {
      "cell_type": "markdown",
      "metadata": {
        "id": "Xi3sWT_6MaKL"
      },
      "source": [
        "###d"
      ]
    },
    {
      "cell_type": "markdown",
      "metadata": {
        "id": "Mb6OatLxND5s"
      },
      "source": [
        "###### KNN"
      ]
    },
    {
      "cell_type": "code",
      "metadata": {
        "colab": {
          "base_uri": "https://localhost:8080/"
        },
        "id": "baJqMAweIMj8",
        "outputId": "b8227c55-cdf8-41a2-9e3f-e89daecce7d3"
      },
      "source": [
        "KFolds = KFold(6)\r\n",
        "KFolds.get_n_splits(trainX)\r\n",
        "kValues = [5,7,9, 11, 13,19]\r\n",
        "\r\n",
        "KNN_Errors = 0\r\n",
        "KNN_F1 = 0\r\n",
        "KFolds.split(trainX)\r\n",
        "count = 0\r\n",
        "error = []\r\n",
        "for train_data, test_data in KFolds.split(trainX):\r\n",
        "  currentTime = time.time()\r\n",
        "  X_train, X_test = trainX.iloc[train_data], trainX.iloc[test_data]\r\n",
        "  y_train, y_test = trainY.iloc[train_data], trainY.iloc[test_data]\r\n",
        "  KNNClf = KNeighborsClassifier(n_neighbors=kValues[count],algorithm='brute', weights='distance', p=2, n_jobs = -1)\r\n",
        "  KNNClf.fit(X_train, y_train)\r\n",
        "  resultKNN = KNNClf.predict(X_test)\r\n",
        "\r\n",
        "  print(\"K: \", kValues[count], \"Accuracy: \", sklearn.metrics.accuracy_score(y_test, resultKNN), \\\r\n",
        "        \"Mean Squared Error: \",   sklearn.metrics.mean_squared_error(y_test, resultKNN), \"F1 Score: \", f1(y_test, resultKNN))\r\n",
        "  count += 1\r\n",
        "  KNN_Errors += sklearn.metrics.mean_squared_error(y_test, resultKNN)\r\n",
        "  KNN_F1 += f1(y_test, resultKNN)\r\n",
        "  error.append(sklearn.metrics.mean_squared_error(y_test, resultKNN))\r\n",
        "\r\n",
        "KNN_F1 /= 6\r\n",
        "KNN_Errors /= 6"
      ],
      "execution_count": null,
      "outputs": [
        {
          "output_type": "stream",
          "text": [
            "K:  5 Accuracy:  0.753731343283582 Mean Squared Error:  0.2462686567164179 F1 Score:  0.6206896551724138\n",
            "K:  7 Accuracy:  0.7611940298507462 Mean Squared Error:  0.23880597014925373 F1 Score:  0.6444444444444445\n",
            "K:  9 Accuracy:  0.7969924812030075 Mean Squared Error:  0.20300751879699247 F1 Score:  0.6966292134831462\n",
            "K:  11 Accuracy:  0.7894736842105263 Mean Squared Error:  0.21052631578947367 F1 Score:  0.641025641025641\n",
            "K:  13 Accuracy:  0.8270676691729323 Mean Squared Error:  0.17293233082706766 F1 Score:  0.7160493827160493\n",
            "K:  19 Accuracy:  0.7894736842105263 Mean Squared Error:  0.21052631578947367 F1 Score:  0.6744186046511629\n"
          ],
          "name": "stdout"
        }
      ]
    },
    {
      "cell_type": "code",
      "metadata": {
        "colab": {
          "base_uri": "https://localhost:8080/"
        },
        "id": "KAHZiygLPd_R",
        "outputId": "96fee1a4-4b12-43c9-ae50-988bc096cd9e"
      },
      "source": [
        "KNNClf = KNeighborsClassifier(n_neighbors=13,algorithm='brute', weights='distance', p=2, n_jobs = -1)\r\n",
        "KNNClf.fit(trainX, trainY)\r\n",
        "resultKNN = KNNClf.predict(testX)\r\n",
        "print(\"Production KNN Algorithm:\")\r\n",
        "print(\"K: \",13, \" Accuracy: \", sklearn.metrics.accuracy_score(testY, resultKNN), \\\r\n",
        "        \"Mean Squared Error: \",   sklearn.metrics.mean_squared_error(testY, resultKNN), \"F1 Score: \", f1(testY, resultKNN))\r\n",
        "\r\n",
        "KNN_TestError = sklearn.metrics.mean_squared_error(testY, resultKNN)"
      ],
      "execution_count": null,
      "outputs": [
        {
          "output_type": "stream",
          "text": [
            "Production KNN Algorithm:\n",
            "K:  13  Accuracy:  0.795 Mean Squared Error:  0.205 F1 Score:  0.7007299270072993\n"
          ],
          "name": "stdout"
        }
      ]
    },
    {
      "cell_type": "markdown",
      "metadata": {
        "id": "_PWkirnTYCSG"
      },
      "source": [
        "######LDA"
      ]
    },
    {
      "cell_type": "code",
      "metadata": {
        "colab": {
          "base_uri": "https://localhost:8080/"
        },
        "id": "_InwFQRMYHGO",
        "outputId": "40d93e3e-52d3-4b0e-8dbe-2a2ac2f70a89"
      },
      "source": [
        "LDA_Errors = 0\r\n",
        "LDA_F1 = 0\r\n",
        "KFolds = KFold(6,shuffle=True)\r\n",
        "\r\n",
        "KFolds.split(trainX)\r\n",
        "tolValues = [ 0.01, 0.0001, 0.00001, 0.000001, 0.0000001, 0.00000001]\r\n",
        "count = 0\r\n",
        "error = []\r\n",
        "for train_data, test_data in KFolds.split(trainX):\r\n",
        "\r\n",
        "\r\n",
        "  X_train, X_test = trainX.iloc[train_data], trainX.iloc[test_data]\r\n",
        "  y_train, y_test = trainY.iloc[train_data], trainY.iloc[test_data]\r\n",
        "  LDAClf = LDA(tol=tolValues[count])\r\n",
        "  LDAClf.fit(X_train, y_train)\r\n",
        "  resultLDA = LDAClf.predict(X_test)\r\n",
        "  print(\"Tolerance\", tolValues[count],\"Accuracy: \", sklearn.metrics.accuracy_score(y_test, resultLDA), \\\r\n",
        "        \"Mean Squared Error: \",   sklearn.metrics.mean_squared_error(y_test, resultLDA), \"F1 Score: \",f1(y_test, resultLDA))\r\n",
        "  count += 1\r\n",
        "  LDA_Errors += sklearn.metrics.mean_squared_error(y_test, resultLDA)\r\n",
        "  LDA_F1 += f1(y_test, resultLDA)\r\n",
        "  error.append(sklearn.metrics.mean_squared_error(y_test, resultLDA))\r\n",
        "\r\n",
        "LDA_F1 /= 6\r\n",
        "LDA_Errors /= 6"
      ],
      "execution_count": null,
      "outputs": [
        {
          "output_type": "stream",
          "text": [
            "Tolerance 0.01 Accuracy:  0.8208955223880597 Mean Squared Error:  0.1791044776119403 F1 Score:  0.7000000000000001\n",
            "Tolerance 0.0001 Accuracy:  0.7910447761194029 Mean Squared Error:  0.208955223880597 F1 Score:  0.611111111111111\n",
            "Tolerance 1e-05 Accuracy:  0.8045112781954887 Mean Squared Error:  0.19548872180451127 F1 Score:  0.7045454545454545\n",
            "Tolerance 1e-06 Accuracy:  0.8045112781954887 Mean Squared Error:  0.19548872180451127 F1 Score:  0.711111111111111\n",
            "Tolerance 1e-07 Accuracy:  0.8571428571428571 Mean Squared Error:  0.14285714285714285 F1 Score:  0.8\n",
            "Tolerance 1e-08 Accuracy:  0.8646616541353384 Mean Squared Error:  0.13533834586466165 F1 Score:  0.816326530612245\n"
          ],
          "name": "stdout"
        }
      ]
    },
    {
      "cell_type": "code",
      "metadata": {
        "colab": {
          "base_uri": "https://localhost:8080/"
        },
        "id": "ZJgEwuDRbOBD",
        "outputId": "b834ae8e-c2ef-46e5-811a-202d00ef6f87"
      },
      "source": [
        "LDAClf = LDA(tol=0.00000001)\r\n",
        "LDAClf.fit(trainX, trainY)\r\n",
        "resultLDA = LDAClf.predict(testX)\r\n",
        "print(\"Production LDA Algorithm\")\r\n",
        "print(\"Tolerance\", 0.00000001,\"Accuracy: \", sklearn.metrics.accuracy_score(testY, resultLDA), \\\r\n",
        "      \"Mean Squared Error: \",   sklearn.metrics.mean_squared_error(testY, resultLDA), \"F1 Score: \",f1(testY, resultLDA))\r\n",
        "\r\n",
        "LDA_TestError = sklearn.metrics.mean_squared_error(testY, resultKNN)"
      ],
      "execution_count": null,
      "outputs": [
        {
          "output_type": "stream",
          "text": [
            "Production LDA Algorithm\n",
            "Tolerance 1e-08 Accuracy:  0.81 Mean Squared Error:  0.19 F1 Score:  0.7246376811594203\n"
          ],
          "name": "stdout"
        }
      ]
    },
    {
      "cell_type": "markdown",
      "metadata": {
        "id": "u53Pnl3vcwoP"
      },
      "source": [
        "######Logistic Regression"
      ]
    },
    {
      "cell_type": "code",
      "metadata": {
        "colab": {
          "base_uri": "https://localhost:8080/"
        },
        "id": "mwGx0AqUczym",
        "outputId": "923e09d5-1318-41cd-c116-d8ad795bafb3"
      },
      "source": [
        "#############Logistic Regression\r\n",
        "LR_F1 = 0\r\n",
        "LR_TrainingError = 0\r\n",
        "\r\n",
        "KFolds = KFold(6)\r\n",
        "KFolds.get_n_splits(trainX)\r\n",
        "CValues = [10,1, 0.1, 0.01, 0.001, 0.0001]\r\n",
        "count = 0\r\n",
        "for train_data, test_data in KFolds.split(trainX):\r\n",
        "  X_train, X_test = trainX.iloc[train_data], trainX.iloc[test_data]\r\n",
        "  y_train, y_test = trainY.iloc[train_data], trainY.iloc[test_data]\r\n",
        "  LogisticCLF = LogisticRegression(penalty = 'l2', tol = 0.1, C=CValues[count], solver='liblinear',max_iter = 2000, multi_class = 'ovr').fit(X_train, y_train)\r\n",
        "  resultLR = LogisticCLF.predict(X_test)\r\n",
        "  print(\"C:\", CValues[count], \"Accuracy: \", sklearn.metrics.accuracy_score(y_test, resultLR), \\\r\n",
        "        \"Mean Squared Error: \",   sklearn.metrics.mean_squared_error(y_test, resultLR), \"F1 Score: \",f1(y_test, resultLR))\r\n",
        "  LR_TrainingError +=  sklearn.metrics.mean_squared_error(y_test, resultLR)\r\n",
        "  LR_F1 += f1(y_test, resultLR)\r\n",
        "  count += 1\r\n",
        "\r\n",
        "LR_F1 /= 6\r\n",
        "LR_TrainingError /= 6"
      ],
      "execution_count": null,
      "outputs": [
        {
          "output_type": "stream",
          "text": [
            "C: 10 Accuracy:  0.8134328358208955 Mean Squared Error:  0.1865671641791045 F1 Score:  0.7191011235955056\n",
            "C: 1 Accuracy:  0.7686567164179104 Mean Squared Error:  0.23134328358208955 F1 Score:  0.6666666666666666\n",
            "C: 0.1 Accuracy:  0.8421052631578947 Mean Squared Error:  0.15789473684210525 F1 Score:  0.7640449438202247\n",
            "C: 0.01 Accuracy:  0.7969924812030075 Mean Squared Error:  0.20300751879699247 F1 Score:  0.6823529411764706\n",
            "C: 0.001 Accuracy:  0.7969924812030075 Mean Squared Error:  0.20300751879699247 F1 Score:  0.7157894736842105\n",
            "C: 0.0001 Accuracy:  0.7368421052631579 Mean Squared Error:  0.2631578947368421 F1 Score:  0.6236559139784946\n"
          ],
          "name": "stdout"
        }
      ]
    },
    {
      "cell_type": "code",
      "metadata": {
        "colab": {
          "base_uri": "https://localhost:8080/"
        },
        "id": "YHnZvTaxd24n",
        "outputId": "e732fac8-5b86-459b-b783-2c664a00f101"
      },
      "source": [
        "tolValues = [1, 0.1, 0.01, 0.001, 0.00001, 0.000001]\r\n",
        "KFolds = KFold(6)\r\n",
        "KFolds.get_n_splits(trainX)\r\n",
        "count = 0\r\n",
        "temp = 0\r\n",
        "temp2 = 0\r\n",
        "for train_data, test_data in KFolds.split(trainX):\r\n",
        "  currentTime = time.time()\r\n",
        "  X_train, X_test = trainX.iloc[train_data], trainX.iloc[test_data]\r\n",
        "  y_train, y_test = trainY.iloc[train_data], trainY.iloc[test_data]\r\n",
        "  LogisticCLF = LogisticRegression(penalty = 'l2', tol = tolValues[count], C=0.1, solver='liblinear',max_iter = 2000, multi_class = 'ovr').fit(X_train, y_train)\r\n",
        "  resultLR = LogisticCLF.predict(X_test)\r\n",
        "  print(\"tol:\", tolValues[count], \"Accuracy: \", sklearn.metrics.accuracy_score(y_test, resultLR), \\\r\n",
        "        \"Mean Squared Error: \",   sklearn.metrics.mean_squared_error(y_test, resultLR), \"F1 Score: \",f1(y_test, resultLR))\r\n",
        "  temp += f1(y_test,resultLR)\r\n",
        "  temp2 += sklearn.metrics.mean_squared_error(y_test, resultLR)\r\n",
        "  count += 1\r\n",
        "\r\n",
        "LR_F1 += temp/6\r\n",
        "LR_F1 /= 2 \r\n",
        "LR_TrainingError += temp2/6\r\n",
        "LR_TrainingError /= 2"
      ],
      "execution_count": null,
      "outputs": [
        {
          "output_type": "stream",
          "text": [
            "tol: 1 Accuracy:  0.8059701492537313 Mean Squared Error:  0.19402985074626866 F1 Score:  0.7111111111111111\n",
            "tol: 0.1 Accuracy:  0.7761194029850746 Mean Squared Error:  0.22388059701492538 F1 Score:  0.6808510638297872\n",
            "tol: 0.01 Accuracy:  0.849624060150376 Mean Squared Error:  0.15037593984962405 F1 Score:  0.7727272727272728\n",
            "tol: 0.001 Accuracy:  0.7894736842105263 Mean Squared Error:  0.21052631578947367 F1 Score:  0.6744186046511628\n",
            "tol: 1e-05 Accuracy:  0.8270676691729323 Mean Squared Error:  0.17293233082706766 F1 Score:  0.7472527472527473\n",
            "tol: 1e-06 Accuracy:  0.849624060150376 Mean Squared Error:  0.15037593984962405 F1 Score:  0.7777777777777777\n"
          ],
          "name": "stdout"
        }
      ]
    },
    {
      "cell_type": "code",
      "metadata": {
        "colab": {
          "base_uri": "https://localhost:8080/"
        },
        "id": "CrhDCLC9eDyJ",
        "outputId": "0315b7cf-c75c-4c86-a98f-7f97a6636397"
      },
      "source": [
        "LogisticCLF = LogisticRegression(penalty = 'l2', tol =  0.000001, C=0.1, solver='liblinear',max_iter = 2000, multi_class = 'ovr').fit(trainX, trainY)\r\n",
        "resultLR = LogisticCLF.predict(testX)\r\n",
        "print(\"Production Logistic Regression Algorithm:\")\r\n",
        "print(\"Accuracy: \", sklearn.metrics.accuracy_score(testY, resultLR), \\\r\n",
        "        \"Mean Squared Error: \",   sklearn.metrics.mean_squared_error(testY, resultLR), \"F1 Score: \",f1(testY, resultLR))\r\n",
        "\r\n",
        "LR_TestError = sklearn.metrics.mean_squared_error(testY, resultLR)"
      ],
      "execution_count": null,
      "outputs": [
        {
          "output_type": "stream",
          "text": [
            "Production Logistic Regression Algorithm:\n",
            "Accuracy:  0.815 Mean Squared Error:  0.185 F1 Score:  0.7375886524822695\n"
          ],
          "name": "stdout"
        }
      ]
    },
    {
      "cell_type": "markdown",
      "metadata": {
        "id": "nMkLXsUafreZ"
      },
      "source": [
        "Used KNN to see performance under non-parametric algorithm and compare it with other parametric classifiers K = 7 gave the least squared error and maximum minimal score. This value was used over testing data.\r\n",
        "\r\n",
        "LDA was used because as the data was standardized, it enabled the use of a Gaussian based classifier. LDA only needed to be cross validated under the tolerance value and found tol wiht minimal error with maximum F1 score just like mentioned above in KNN.\r\n",
        "\r\n",
        "Logistic Regression was used to compare linear classifier that is not based on the gaussian requirement. LR was cross validated over tolerance and regularization parameter.\r\n",
        "\r\n",
        "Choosing these classifiers allowed me to see the difference in performance under the same dataset."
      ]
    },
    {
      "cell_type": "markdown",
      "metadata": {
        "id": "2EKWHV8rfjfq"
      },
      "source": [
        "###e"
      ]
    },
    {
      "cell_type": "code",
      "metadata": {
        "colab": {
          "base_uri": "https://localhost:8080/",
          "height": 851
        },
        "id": "Oin6kKtHpKsK",
        "outputId": "1c148c89-78d1-43b1-b75c-fb3c1a7820d9"
      },
      "source": [
        "roc_curve = roc(KNNClf, testX, testY)\r\n",
        "plt.title(\"KNN ROC Curve\")\r\n",
        "roc_curve1 = roc(LDAClf, testX, testY)\r\n",
        "plt.title(\"LDA ROC Curve\")\r\n",
        "roc_curve2 = roc(LogisticCLF, testX, testY)\r\n",
        "plt.title(\"Logistic Regression ROC Curve\")\r\n",
        "plt.show()"
      ],
      "execution_count": null,
      "outputs": [
        {
          "output_type": "display_data",
          "data": {
            "image/png": "[encoded data removed]",
            "text/plain": [
              "<Figure size 432x288 with 1 Axes>"
            ]
          },
          "metadata": {
            "tags": [],
            "needs_background": "light"
          }
        },
        {
          "output_type": "display_data",
          "data": {
            "image/png": "[encoded data removed]",
            "text/plain": [
              "<Figure size 432x288 with 1 Axes>"
            ]
          },
          "metadata": {
            "tags": [],
            "needs_background": "light"
          }
        },
        {
          "output_type": "display_data",
          "data": {
            "image/png": "[encoded data removed]",
            "text/plain": [
              "<Figure size 432x288 with 1 Axes>"
            ]
          },
          "metadata": {
            "tags": [],
            "needs_background": "light"
          }
        }
      ]
    },
    {
      "cell_type": "code",
      "metadata": {
        "colab": {
          "base_uri": "https://localhost:8080/",
          "height": 851
        },
        "id": "b0kygkXGflfE",
        "outputId": "4a371c85-a4b8-4a65-c43d-271a26bb06fa"
      },
      "source": [
        "confusion_matrix = sklearn.metrics.plot_confusion_matrix(KNNClf, testX, testY)\r\n",
        "plt.title(\"KNN Confusion Matrix\")\r\n",
        "plt.show()\r\n",
        "confusion_matrix1 = sklearn.metrics.plot_confusion_matrix(LDAClf, testX, testY)\r\n",
        "plt.title(\"LDA Confusion Matrix\")\r\n",
        "plt.show()\r\n",
        "confusion_matrix2 = sklearn.metrics.plot_confusion_matrix(LogisticCLF, testX, testY)\r\n",
        "plt.title(\"Logistic Regression Confusion Matrix\")\r\n",
        "plt.show()"
      ],
      "execution_count": null,
      "outputs": [
        {
          "output_type": "display_data",
          "data": {
            "image/png": "[encoded data removed]",
            "text/plain": [
              "<Figure size 432x288 with 2 Axes>"
            ]
          },
          "metadata": {
            "tags": [],
            "needs_background": "light"
          }
        },
        {
          "output_type": "display_data",
          "data": {
            "image/png": "[encoded data removed]",
            "text/plain": [
              "<Figure size 432x288 with 2 Axes>"
            ]
          },
          "metadata": {
            "tags": [],
            "needs_background": "light"
          }
        },
        {
          "output_type": "display_data",
          "data": {
            "image/png": "[encoded data removed]",
            "text/plain": [
              "<Figure size 432x288 with 2 Axes>"
            ]
          },
          "metadata": {
            "tags": [],
            "needs_background": "light"
          }
        }
      ]
    },
    {
      "cell_type": "code",
      "metadata": {
        "colab": {
          "base_uri": "https://localhost:8080/",
          "height": 336
        },
        "id": "v7tdyUY1sFhT",
        "outputId": "51c77706-45ac-4a0e-e119-fceab059f509"
      },
      "source": [
        "##AVERAGE F1 Scores\r\n",
        "fig = plt.figure()\r\n",
        "fig.xlabel = \"Classification Method\"\r\n",
        "fig.ylabel = \"Average F1 Scores\"\r\n",
        "ax = fig.add_axes([0,0,1,1])\r\n",
        "labels = ['KNN', 'Logistic Regression', 'LDA']\r\n",
        "values = [KNN_F1, LR_F1, LDA_F1]\r\n",
        "ax.bar(labels, values)\r\n",
        "plt.show()\r\n",
        "\r\n"
      ],
      "execution_count": null,
      "outputs": [
        {
          "output_type": "display_data",
          "data": {
            "image/png": "[encoded data removed]",
            "text/plain": [
              "<Figure size 432x288 with 1 Axes>"
            ]
          },
          "metadata": {
            "tags": [],
            "needs_background": "light"
          }
        }
      ]
    },
    {
      "cell_type": "code",
      "metadata": {
        "colab": {
          "base_uri": "https://localhost:8080/",
          "height": 366
        },
        "id": "wkhlvERpsJq5",
        "outputId": "031caabd-09e4-44dd-de7b-03f071161f16"
      },
      "source": [
        "fig = plt.figure()\r\n",
        "fig.xlabel = \"Classification Method\"\r\n",
        "fig.ylabel = \"Average Training Error\"\r\n",
        "ax = fig.add_axes([0,0,1,1])\r\n",
        "labels = ['KNN - Train','KNN - Test',   'LDA - Train', 'LDA- Test', 'LR - Train', 'LR - Test']\r\n",
        "values = [KNN_Errors, KNN_TestError, LDA_Errors, LDA_TestError, LR_TrainingError, LR_TestError]\r\n",
        "plt.ylabel('Error Rate')\r\n",
        "plt.xlabel('Classifier')\r\n",
        "plt.title('Classifier vs Error')\r\n",
        "ax.bar(labels, values)\r\n",
        "plt.show()"
      ],
      "execution_count": null,
      "outputs": [
        {
          "output_type": "display_data",
          "data": {
            "image/png": "[encoded data removed]",
            "text/plain": [
              "<Figure size 432x288 with 1 Axes>"
            ]
          },
          "metadata": {
            "tags": [],
            "needs_background": "light"
          }
        }
      ]
    },
    {
      "cell_type": "markdown",
      "metadata": {
        "id": "DR4yqzJs397G"
      },
      "source": [
        "ROC Curves, confusion matrices, F1 score and Average Squared Mean Error are shown above. All the classifiers performed very well and judging by the F1 error (due to unbalance) Logistic Regression and LDA performed the best. KNN followed with a small error. LR had the least test error whilr KNN and LDA seemed to have about the same test dataset errors. And Confusion matrix shows TP, TN, FP, FN for all classes. ROC curves properly show the True positive and False positive rates (clearly shows LR and LDA performs very similar)."
      ]
    },
    {
      "cell_type": "markdown",
      "metadata": {
        "id": "cctN6eCluskC"
      },
      "source": [
        "###f\r\n",
        "\r\n",
        "Ethical issues under this dataset would include copyright concerns. \r\n",
        "The dataset contains raw text from many different article sites and it could be possible that during the time of fetching all this data, the data collector did not have the rights to add it to the dataset or the articles were used without paying for them (illegally obatined using piracy). It could also have problems with not properly citing the authors or the source when using it. So, all this could possibly lead to problems in the future if not properly handled."
      ]
    },
    {
      "cell_type": "markdown",
      "metadata": {
        "id": "7SCzHHCJwKyd"
      },
      "source": [
        "###g\r\n",
        "\r\n",
        "\r\n",
        "@article{scikit-learn,\r\n",
        " title={Scikit-learn: Machine Learning in {P}ython},\r\n",
        " author={Pedregosa, F. and Varoquaux, G. and Gramfort, A. and Michel, V.\r\n",
        "         and Thirion, B. and Grisel, O. and Blondel, M. and Prettenhofer, P.\r\n",
        "         and Weiss, R. and Dubourg, V. and Vanderplas, J. and Passos, A. and\r\n",
        "         Cournapeau, D. and Brucher, M. and Perrot, M. and Duchesnay, E.},\r\n",
        " journal={Journal of Machine Learning Research},\r\n",
        " volume={12},\r\n",
        " pages={2825--2830},\r\n",
        " year={2011}\r\n",
        "}\r\n",
        "\r\n",
        "Weblinks:\r\n",
        "\r\n",
        "https://scikit-learn.org/stable/modules/generated/sklearn.neighbors.KNeighborsClassifier.html\r\n",
        "\r\n",
        "https://scikit-learn.org/stable/modules/neighbors.html#classification\r\n",
        "\r\n",
        "https://scikit-learn.org/stable/modules/generated/sklearn.linear_model.LogisticRegression.html\r\n",
        "\r\n",
        "https://scikit-learn.org/stable/modules/linear_model.html#logistic-regression\r\n",
        "\r\n",
        "https://scikit-learn.org/stable/modules/generated/sklearn.discriminant_analysis.LinearDiscriminantAnalysis.html\r\n",
        "\r\n",
        "https://scikit-learn.org/stable/modules/lda_qda.html#lda-qda\r\n",
        "\r\n",
        "https://scikit-learn.org/stable/modules/generated/sklearn.model_selection.train_test_split.html\r\n",
        "\r\n",
        "https://scikit-learn.org/stable/modules/generated/sklearn.model_selection.KFold.html\r\n",
        "\r\n",
        "https://scikit-learn.org/stable/modules/generated/sklearn.metrics.f1_score.html\r\n",
        "\r\n",
        "https://scikit-learn.org/stable/modules/generated/sklearn.metrics.mean_squared_error.html\r\n",
        "\r\n",
        "https://scikit-learn.org/stable/modules/generated/sklearn.metrics.plot_roc_curve.html\r\n",
        "\r\n",
        "\r\n",
        "Stéfan van der Walt, Johannes L. Schönberger, Juan Nunez-Iglesias, François Boulogne, Joshua D. Warner, Neil Yager, Emmanuelle Gouillart, Tony Yu and the scikit-image contributors. scikit-image: Image processing in Python. PeerJ 2:e453 (2014)\r\n",
        "2\r\n",
        "\r\n",
        "Edward Loper and Steven Bird. 2002. NLTK: the Natural Language Toolkit. In Proceedings of the ACL-02 Workshop on Effective tools and methodologies for teaching natural language processing and computational linguistics - Volume 1 (ETMTNLP '02). Association for Computational Linguistics, USA, 63–70. DOI:https://doi.org/10.3115/1118108.1118117\r\n",
        "\r\n",
        "  \r\n",
        "Steven Bird, Ewan Klein, and Edward Loper (2009). Natural Language Processing with Python. O’Reilly Media Inc. http://nltk.org/book\r\n",
        "\r\n",
        "https://www.nltk.org/py-modindex.html"
      ]
    }
  ]
}